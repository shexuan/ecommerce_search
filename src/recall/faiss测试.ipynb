{
 "cells": [
  {
   "cell_type": "code",
   "execution_count": 2,
   "id": "654f04db-8ac0-46a0-8a73-c92df60c17db",
   "metadata": {},
   "outputs": [
    {
     "name": "stderr",
     "output_type": "stream",
     "text": [
      "Using TensorFlow backend.\n"
     ]
    }
   ],
   "source": [
    "import pandas as pd\n",
    "import numpy as np\n",
    "\n",
    "np.set_printoptions(precision=3, suppress=True)\n",
    "np.set_printoptions(formatter={'float': '{: 0.3f}'.format})\n",
    "#pd.set_option('precision', 5) #设置精度\n",
    "pd.set_option('display.float_format', lambda x: '%.5f' % x) #为了直观的显示数字，不采用科学计数法\n",
    "\n",
    "# jupyter notebook中设置交互式输出\n",
    "from IPython.core.interactiveshell import InteractiveShell\n",
    "InteractiveShell.ast_node_interactivity = \"all\"\n",
    "\n",
    "#显示所有列\n",
    "pd.set_option('display.max_columns', None)\n",
    "#显示所有行\n",
    "pd.set_option('display.max_rows', 500)\n",
    "#设置value的显示长度为100，默认为50\n",
    "pd.set_option('max_colwidth', 100)\n",
    "\n",
    "import sys, gc, os\n",
    "import matplotlib\n",
    "import matplotlib.pyplot as plt\n",
    "\n",
    "\n",
    "# 输出中文字体\n",
    "#matplotlib.rcParams['font.sans-serif'] = ['KaiTi']\n",
    "plt.rcParams['font.sans-serif']=[\"SimSun\"] #用来正常显示中文标签\n",
    "plt.rcParams['axes.unicode_minus']=False #用来正常显示负号\n",
    "#plt.rcParams['font.sans-serif'] = ['Arial Unicode MS']\n",
    "plt.style.use(\"ggplot\")\n",
    "\n",
    "import faiss\n",
    "import tensorflow as tf\n",
    "# from bert4keras.optimizers import Adam\n",
    "from bert4keras.snippets import DataGenerator, sequence_padding"
   ]
  },
  {
   "cell_type": "code",
   "execution_count": 3,
   "id": "2051cb6a-d05f-4700-94a0-49a90ccd410f",
   "metadata": {},
   "outputs": [],
   "source": [
    "decay_steps = 1000\n",
    "lr_sch = tf.keras.experimental.CosineDecay(0.01, decay_steps, alpha=0.1)\n"
   ]
  },
  {
   "cell_type": "code",
   "execution_count": null,
   "id": "9bd21702-57a9-440f-9a97-4dabbc71ecd2",
   "metadata": {},
   "outputs": [],
   "source": [
    "optimizer = tf.keras.optimizers.Adam(lr_sch)"
   ]
  },
  {
   "cell_type": "code",
   "execution_count": 2,
   "id": "263c2a0a-6cf9-423c-aab3-9a8bbe78558d",
   "metadata": {},
   "outputs": [
    {
     "data": {
      "text/plain": [
       "['epoch0.weight',\n",
       " 'query_embedding',\n",
       " 'doc_embedding',\n",
       " 'robert.epoch0.lr2e.fla.tar.gz',\n",
       " 'epoch0.robert.lr2e.drop02.fla.tar.gz']"
      ]
     },
     "execution_count": 2,
     "metadata": {},
     "output_type": "execute_result"
    }
   ],
   "source": [
    "DATA_DIR = '../../data/models/robert_sample_10w_100000_lr2e-05_drop0.2_pt_first-last-avg/epoch0'\n",
    "os.listdir(DATA_DIR)"
   ]
  },
  {
   "cell_type": "code",
   "execution_count": 1,
   "id": "0ab079c6-5bc2-43a0-8a6e-dcff3a2fe99f",
   "metadata": {},
   "outputs": [],
   "source": [
    "import sys, os\n",
    "# 使用混合精度训练\n",
    "os.environ['TF_ENABLE_AUTO_MIXED_PRECISION']='1'"
   ]
  },
  {
   "cell_type": "code",
   "execution_count": 2,
   "id": "c35cbd8d-432f-47d0-ace0-201d90eddde6",
   "metadata": {},
   "outputs": [
    {
     "data": {
      "text/plain": [
       "'1'"
      ]
     },
     "execution_count": 2,
     "metadata": {},
     "output_type": "execute_result"
    }
   ],
   "source": [
    "os.environ['TF_ENABLE_AUTO_MIXED_PRECISION']"
   ]
  },
  {
   "cell_type": "code",
   "execution_count": 2,
   "id": "c10f2e54-b77f-4140-8fdc-9300be63730c",
   "metadata": {},
   "outputs": [
    {
     "data": {
      "text/html": [
       "<div>\n",
       "<style scoped>\n",
       "    .dataframe tbody tr th:only-of-type {\n",
       "        vertical-align: middle;\n",
       "    }\n",
       "\n",
       "    .dataframe tbody tr th {\n",
       "        vertical-align: top;\n",
       "    }\n",
       "\n",
       "    .dataframe thead th {\n",
       "        text-align: right;\n",
       "    }\n",
       "</style>\n",
       "<table border=\"1\" class=\"dataframe\">\n",
       "  <thead>\n",
       "    <tr style=\"text-align: right;\">\n",
       "      <th></th>\n",
       "      <th>index</th>\n",
       "      <th>id</th>\n",
       "      <th>text</th>\n",
       "      <th>text_cut</th>\n",
       "      <th>source</th>\n",
       "    </tr>\n",
       "  </thead>\n",
       "  <tbody>\n",
       "    <tr>\n",
       "      <th>1101500</th>\n",
       "      <td>1101500</td>\n",
       "      <td>200001</td>\n",
       "      <td>甲黄酸阿怕替尼片</td>\n",
       "      <td>[甲, 黄酸, 阿怕, 替尼片]</td>\n",
       "      <td>dev</td>\n",
       "    </tr>\n",
       "    <tr>\n",
       "      <th>1101501</th>\n",
       "      <td>1101501</td>\n",
       "      <td>200002</td>\n",
       "      <td>索泰zbox</td>\n",
       "      <td>[索泰, zbox]</td>\n",
       "      <td>dev</td>\n",
       "    </tr>\n",
       "    <tr>\n",
       "      <th>1101502</th>\n",
       "      <td>1101502</td>\n",
       "      <td>200003</td>\n",
       "      <td>kfc游戏机</td>\n",
       "      <td>[kfc, 游戏机]</td>\n",
       "      <td>dev</td>\n",
       "    </tr>\n",
       "    <tr>\n",
       "      <th>1101503</th>\n",
       "      <td>1101503</td>\n",
       "      <td>200004</td>\n",
       "      <td>bunny成兔粮</td>\n",
       "      <td>[bunny, 成兔, 粮]</td>\n",
       "      <td>dev</td>\n",
       "    </tr>\n",
       "    <tr>\n",
       "      <th>1101504</th>\n",
       "      <td>1101504</td>\n",
       "      <td>200005</td>\n",
       "      <td>铁线威灵仙</td>\n",
       "      <td>[铁线, 威灵仙]</td>\n",
       "      <td>dev</td>\n",
       "    </tr>\n",
       "    <tr>\n",
       "      <th>1101505</th>\n",
       "      <td>1101505</td>\n",
       "      <td>200006</td>\n",
       "      <td>大叶紫檀扬琴</td>\n",
       "      <td>[大叶, 紫檀, 扬琴]</td>\n",
       "      <td>dev</td>\n",
       "    </tr>\n",
       "    <tr>\n",
       "      <th>1101506</th>\n",
       "      <td>1101506</td>\n",
       "      <td>200007</td>\n",
       "      <td>阿no的毛线铺图解</td>\n",
       "      <td>[阿, no, 的, 毛线, 铺, 图解]</td>\n",
       "      <td>dev</td>\n",
       "    </tr>\n",
       "    <tr>\n",
       "      <th>1101507</th>\n",
       "      <td>1101507</td>\n",
       "      <td>200008</td>\n",
       "      <td>充气车库</td>\n",
       "      <td>[充气, 车库]</td>\n",
       "      <td>dev</td>\n",
       "    </tr>\n",
       "    <tr>\n",
       "      <th>1101508</th>\n",
       "      <td>1101508</td>\n",
       "      <td>200009</td>\n",
       "      <td>柴油降凝剂依维柯专用</td>\n",
       "      <td>[柴油, 降, 凝剂, 依, 维柯, 专用]</td>\n",
       "      <td>dev</td>\n",
       "    </tr>\n",
       "    <tr>\n",
       "      <th>1101509</th>\n",
       "      <td>1101509</td>\n",
       "      <td>200010</td>\n",
       "      <td>玻璃胶十大品牌</td>\n",
       "      <td>[玻璃胶, 十大, 品牌]</td>\n",
       "      <td>dev</td>\n",
       "    </tr>\n",
       "  </tbody>\n",
       "</table>\n",
       "</div>"
      ],
      "text/plain": [
       "           index      id        text                text_cut source\n",
       "1101500  1101500  200001    甲黄酸阿怕替尼片        [甲, 黄酸, 阿怕, 替尼片]    dev\n",
       "1101501  1101501  200002      索泰zbox              [索泰, zbox]    dev\n",
       "1101502  1101502  200003      kfc游戏机              [kfc, 游戏机]    dev\n",
       "1101503  1101503  200004    bunny成兔粮          [bunny, 成兔, 粮]    dev\n",
       "1101504  1101504  200005       铁线威灵仙               [铁线, 威灵仙]    dev\n",
       "1101505  1101505  200006      大叶紫檀扬琴            [大叶, 紫檀, 扬琴]    dev\n",
       "1101506  1101506  200007   阿no的毛线铺图解   [阿, no, 的, 毛线, 铺, 图解]    dev\n",
       "1101507  1101507  200008        充气车库                [充气, 车库]    dev\n",
       "1101508  1101508  200009  柴油降凝剂依维柯专用  [柴油, 降, 凝剂, 依, 维柯, 专用]    dev\n",
       "1101509  1101509  200010     玻璃胶十大品牌           [玻璃胶, 十大, 品牌]    dev"
      ]
     },
     "execution_count": 2,
     "metadata": {},
     "output_type": "execute_result"
    }
   ],
   "source": [
    "df_all = pd.read_pickle(\"../../data/raw_data/docs_cut_rm_stop_words.pkl\")\n",
    "df_doc = df_all.query(\"source=='doc'\")\n",
    "df_dev = df_all.query(\"source=='dev'\")\n",
    "# df_all.head()\n",
    "df_pair = pd.read_pickle(\"../../data/raw_data/train_pairs_cut_rm_stop_words.pkl\")\n",
    "# df_pair.head()\n",
    "\n",
    "df_dev.head(10)"
   ]
  },
  {
   "cell_type": "code",
   "execution_count": 4,
   "id": "36a58a32-062d-4d2b-89fa-90936b55fd55",
   "metadata": {},
   "outputs": [
    {
     "data": {
      "text/html": [
       "<div>\n",
       "<style scoped>\n",
       "    .dataframe tbody tr th:only-of-type {\n",
       "        vertical-align: middle;\n",
       "    }\n",
       "\n",
       "    .dataframe tbody tr th {\n",
       "        vertical-align: top;\n",
       "    }\n",
       "\n",
       "    .dataframe thead th {\n",
       "        text-align: right;\n",
       "    }\n",
       "</style>\n",
       "<table border=\"1\" class=\"dataframe\">\n",
       "  <thead>\n",
       "    <tr style=\"text-align: right;\">\n",
       "      <th></th>\n",
       "      <th>qid</th>\n",
       "      <th>did</th>\n",
       "      <th>qtext</th>\n",
       "      <th>qtext_cut</th>\n",
       "      <th>dtext</th>\n",
       "      <th>dtext_cut</th>\n",
       "    </tr>\n",
       "  </thead>\n",
       "  <tbody>\n",
       "    <tr>\n",
       "      <th>0</th>\n",
       "      <td>1</td>\n",
       "      <td>679139</td>\n",
       "      <td>美赞臣亲舒一段</td>\n",
       "      <td>[美赞臣, 亲舒, 一段]</td>\n",
       "      <td>领券满减】美赞臣安婴儿a+亲舒 婴儿奶粉1段850克 0-12个月宝宝</td>\n",
       "      <td>[领券, 满减, 美赞臣, 安, 婴儿, a, +, 亲舒, 婴儿, 奶粉, 1, 段, 850, 克, 0, 12, 个, 月, 宝宝]</td>\n",
       "    </tr>\n",
       "    <tr>\n",
       "      <th>1</th>\n",
       "      <td>2</td>\n",
       "      <td>35343</td>\n",
       "      <td>慱朗手动料理机</td>\n",
       "      <td>[慱, 朗, 手动, 料理, 机]</td>\n",
       "      <td>braun/博朗 mq3035/3000/5025料理棒手持小型婴儿辅食家用搅拌机</td>\n",
       "      <td>[braun, 博朗, mq, 3035, 3000, 5025, 料理, 棒, 手持, 小型, 婴儿, 辅食, 家用, 搅拌机]</td>\n",
       "    </tr>\n",
       "  </tbody>\n",
       "</table>\n",
       "</div>"
      ],
      "text/plain": [
       "   qid     did    qtext          qtext_cut  \\\n",
       "0    1  679139  美赞臣亲舒一段      [美赞臣, 亲舒, 一段]   \n",
       "1    2   35343  慱朗手动料理机  [慱, 朗, 手动, 料理, 机]   \n",
       "\n",
       "                                       dtext  \\\n",
       "0        领券满减】美赞臣安婴儿a+亲舒 婴儿奶粉1段850克 0-12个月宝宝   \n",
       "1  braun/博朗 mq3035/3000/5025料理棒手持小型婴儿辅食家用搅拌机   \n",
       "\n",
       "                                                               dtext_cut  \n",
       "0  [领券, 满减, 美赞臣, 安, 婴儿, a, +, 亲舒, 婴儿, 奶粉, 1, 段, 850, 克, 0, 12, 个, 月, 宝宝]  \n",
       "1      [braun, 博朗, mq, 3035, 3000, 5025, 料理, 棒, 手持, 小型, 婴儿, 辅食, 家用, 搅拌机]  "
      ]
     },
     "execution_count": 4,
     "metadata": {},
     "output_type": "execute_result"
    }
   ],
   "source": [
    "df_pair.head(2)"
   ]
  },
  {
   "cell_type": "code",
   "execution_count": 48,
   "id": "3bbc6ac6-3bca-44f6-80e0-094721b6b9cd",
   "metadata": {},
   "outputs": [
    {
     "data": {
      "text/plain": [
       "(99000, 6)"
      ]
     },
     "execution_count": 48,
     "metadata": {},
     "output_type": "execute_result"
    }
   ],
   "source": [
    "df_pair[~df_pair.qid.isin(val)].shape"
   ]
  },
  {
   "cell_type": "code",
   "execution_count": 12,
   "id": "dec3d0b4-151b-4037-855e-a1c3771f37ea",
   "metadata": {},
   "outputs": [
    {
     "data": {
      "text/plain": [
       "(1000,)"
      ]
     },
     "execution_count": 12,
     "metadata": {},
     "output_type": "execute_result"
    }
   ],
   "source": [
    "df_val = df_pair.sample(n=1000, random_state=1234)\n",
    "df_val[\"qid\"].shape"
   ]
  },
  {
   "cell_type": "code",
   "execution_count": 14,
   "id": "1d520885-9314-43a9-91c2-37f551462af2",
   "metadata": {},
   "outputs": [],
   "source": [
    "val = df_val[\"qid\"].tolist()"
   ]
  },
  {
   "cell_type": "code",
   "execution_count": 39,
   "id": "4f90a377-9d91-4c2c-a483-8294dfb82872",
   "metadata": {},
   "outputs": [],
   "source": [
    "import json\n",
    "\n",
    "def write_to_json(jpath, data):\n",
    "    with open(jpath, 'w', encoding='utf-8') as json_file:\n",
    "        json.dump(data, json_file, ensure_ascii=False)\n",
    "        print(\"write json file success!\")\n",
    "        \n",
    "def read_json(jpath):\n",
    "    with open(jpath, 'r', encoding='utf-8') as json_file:\n",
    "        data = json.load(json_file)\n",
    "        print(\"loads json file success!\")\n",
    "        return data"
   ]
  },
  {
   "cell_type": "code",
   "execution_count": 45,
   "id": "e7b42771-0e0b-4a40-86ec-b467a6bfe4d8",
   "metadata": {},
   "outputs": [
    {
     "name": "stdout",
     "output_type": "stream",
     "text": [
      "write json file success!\n",
      "loads json file success!\n"
     ]
    }
   ],
   "source": [
    "write_to_json(\"test.json\", val)\n",
    "val2 = read_json(\"test.json\")\n"
   ]
  },
  {
   "cell_type": "code",
   "execution_count": null,
   "id": "51a34ba8-4457-4888-82e0-f5e99fdb3829",
   "metadata": {},
   "outputs": [],
   "source": []
  },
  {
   "cell_type": "code",
   "execution_count": 46,
   "id": "39335bc2-1b78-4f4d-b609-e8ed9975ecbd",
   "metadata": {},
   "outputs": [
    {
     "data": {
      "text/plain": [
       "list"
      ]
     },
     "execution_count": 46,
     "metadata": {},
     "output_type": "execute_result"
    }
   ],
   "source": [
    "type(val2)"
   ]
  },
  {
   "cell_type": "code",
   "execution_count": null,
   "id": "aad2b19e-5f81-4032-ae18-cbd6812f170c",
   "metadata": {},
   "outputs": [],
   "source": []
  },
  {
   "cell_type": "code",
   "execution_count": 26,
   "id": "0ae073f7-2c4c-4fb4-b8ad-789195bc20a4",
   "metadata": {},
   "outputs": [],
   "source": [
    "def load_embedding(fpath):\n",
    "    with open(fpath, \"r\") as f:\n",
    "        lines = [line.split(\"\\t\") for line in f.readlines()]\n",
    "        index = [line[0] for line in lines]\n",
    "        emb = [line[1].split(\",\") for line in lines]\n",
    "        emb = np.array(emb).astype(np.float32)\n",
    "        index = np.array(index).astype(np.int32)\n",
    "    \n",
    "        return index, emb"
   ]
  },
  {
   "cell_type": "code",
   "execution_count": 27,
   "id": "300d581c-a80f-48a0-a7f1-d1c4d4dac02e",
   "metadata": {},
   "outputs": [],
   "source": [
    "qidx, qry_emb = load_embedding(DATA_DIR+\"/query_embedding\")\n",
    "didx, doc_emb = load_embedding(DATA_DIR+\"/doc_embedding\")\n"
   ]
  },
  {
   "cell_type": "code",
   "execution_count": 28,
   "id": "6c78a4e0-db81-4ec0-9638-b03746179f93",
   "metadata": {},
   "outputs": [
    {
     "data": {
      "text/plain": [
       "array([1001491, 1001492, 1001493, 1001494, 1001495, 1001496, 1001497,\n",
       "       1001498, 1001499, 1001500], dtype=int32)"
      ]
     },
     "execution_count": 28,
     "metadata": {},
     "output_type": "execute_result"
    },
    {
     "data": {
      "text/plain": [
       "1001500"
      ]
     },
     "execution_count": 28,
     "metadata": {},
     "output_type": "execute_result"
    },
    {
     "data": {
      "text/plain": [
       "1001500"
      ]
     },
     "execution_count": 28,
     "metadata": {},
     "output_type": "execute_result"
    }
   ],
   "source": [
    "didx[-10:]\n",
    "len(didx)\n",
    "len(set(didx))"
   ]
  },
  {
   "cell_type": "code",
   "execution_count": 70,
   "id": "56733d95-f995-4d1f-b4a3-43b86f502c8c",
   "metadata": {},
   "outputs": [],
   "source": [
    "doc_emb = doc_emb.astype(np.float32)\n",
    "qry_emb = qry_emb.astype(np.float32)"
   ]
  },
  {
   "cell_type": "code",
   "execution_count": 71,
   "id": "cc865dc3-a1d5-420f-af69-e1c155477350",
   "metadata": {},
   "outputs": [],
   "source": [
    "use_gpu = False\n",
    "# IndexFlatL2表示利用L2距离来比较特征的相似度\n",
    "index_l2 = faiss.IndexFlatL2(128) # 向量维度为128\n",
    "# 使用GPU\n",
    "if use_gpu:\n",
    "    res = faiss.StandardGpuResources()\n",
    "    gpu_index_l2 = faiss.index_cpu_to_gpu(res, 0, index_l2)\n",
    "\n",
    "# 倒排索引进行加速\n",
    "nlist = 100  # 聚类中心的个数\n",
    "topK = 10  # 召回近邻向量的个数\n",
    "index_l2 = faiss.IndexIVFFlat(index_l2, 128, nlist, faiss.METRIC_L2)\n",
    "\n",
    "# 倒排索引加速需要先训练 k近邻\n",
    "index_l2.train(doc_emb)"
   ]
  },
  {
   "cell_type": "code",
   "execution_count": 73,
   "id": "203c81cf-2a83-450e-b020-330f2056a4a1",
   "metadata": {},
   "outputs": [],
   "source": [
    "# 手动传入向量index\n",
    "index_l3 = faiss.IndexIDMap(index_l2)\n",
    "index_l3.add_with_ids(doc_emb, np.array(didx).astype('int64'))"
   ]
  },
  {
   "cell_type": "code",
   "execution_count": 80,
   "id": "758646dd-1c9f-42d5-a6d7-e267822e64c0",
   "metadata": {},
   "outputs": [],
   "source": [
    "D3, I3 = index_l3.search(qry_emb[0].reshape(-1,128), 50)\n"
   ]
  },
  {
   "cell_type": "code",
   "execution_count": 82,
   "id": "571f6dac-a524-4eec-b3fb-7dbaf432bc3e",
   "metadata": {},
   "outputs": [
    {
     "ename": "RuntimeError",
     "evalue": "Error in faiss::IndexIDMapTemplate<IndexT>::IndexIDMapTemplate(IndexT*) [with IndexT = faiss::Index] at /root/miniconda3/conda-bld/faiss-pkg_1641228905850/work/faiss/MetaIndexes.cpp:33: Error: 'index->ntotal == 0' failed: index must be empty on input",
     "output_type": "error",
     "traceback": [
      "\u001b[0;31m---------------------------------------------------------------------------\u001b[0m",
      "\u001b[0;31mRuntimeError\u001b[0m                              Traceback (most recent call last)",
      "\u001b[0;32m/tmp/ipykernel_7200/3645754289.py\u001b[0m in \u001b[0;36m<module>\u001b[0;34m\u001b[0m\n\u001b[1;32m      1\u001b[0m \u001b[0;31m# 手动传入向量index\u001b[0m\u001b[0;34m\u001b[0m\u001b[0;34m\u001b[0m\u001b[0;34m\u001b[0m\u001b[0m\n\u001b[0;32m----> 2\u001b[0;31m \u001b[0mindex_l2\u001b[0m \u001b[0;34m=\u001b[0m \u001b[0mfaiss\u001b[0m\u001b[0;34m.\u001b[0m\u001b[0mIndexIDMap\u001b[0m\u001b[0;34m(\u001b[0m\u001b[0mindex_l2\u001b[0m\u001b[0;34m)\u001b[0m\u001b[0;34m\u001b[0m\u001b[0;34m\u001b[0m\u001b[0m\n\u001b[0m",
      "\u001b[0;32m~/miniconda3/lib/python3.8/site-packages/faiss/__init__.py\u001b[0m in \u001b[0;36mreplacement_init\u001b[0;34m(self, *args)\u001b[0m\n\u001b[1;32m    794\u001b[0m \u001b[0;34m\u001b[0m\u001b[0m\n\u001b[1;32m    795\u001b[0m     \u001b[0;32mdef\u001b[0m \u001b[0mreplacement_init\u001b[0m\u001b[0;34m(\u001b[0m\u001b[0mself\u001b[0m\u001b[0;34m,\u001b[0m \u001b[0;34m*\u001b[0m\u001b[0margs\u001b[0m\u001b[0;34m)\u001b[0m\u001b[0;34m:\u001b[0m\u001b[0;34m\u001b[0m\u001b[0;34m\u001b[0m\u001b[0m\n\u001b[0;32m--> 796\u001b[0;31m         \u001b[0moriginal_init\u001b[0m\u001b[0;34m(\u001b[0m\u001b[0mself\u001b[0m\u001b[0;34m,\u001b[0m \u001b[0;34m*\u001b[0m\u001b[0margs\u001b[0m\u001b[0;34m)\u001b[0m\u001b[0;34m\u001b[0m\u001b[0;34m\u001b[0m\u001b[0m\n\u001b[0m\u001b[1;32m    797\u001b[0m         \u001b[0mself\u001b[0m\u001b[0;34m.\u001b[0m\u001b[0mreferenced_objects\u001b[0m \u001b[0;34m=\u001b[0m \u001b[0;34m[\u001b[0m\u001b[0margs\u001b[0m\u001b[0;34m[\u001b[0m\u001b[0mparameter_no\u001b[0m\u001b[0;34m]\u001b[0m\u001b[0;34m]\u001b[0m\u001b[0;34m\u001b[0m\u001b[0;34m\u001b[0m\u001b[0m\n\u001b[1;32m    798\u001b[0m \u001b[0;34m\u001b[0m\u001b[0m\n",
      "\u001b[0;32m~/miniconda3/lib/python3.8/site-packages/faiss/swigfaiss_avx2.py\u001b[0m in \u001b[0;36m__init__\u001b[0;34m(self, *args)\u001b[0m\n\u001b[1;32m   8419\u001b[0m \u001b[0;34m\u001b[0m\u001b[0m\n\u001b[1;32m   8420\u001b[0m     \u001b[0;32mdef\u001b[0m \u001b[0m__init__\u001b[0m\u001b[0;34m(\u001b[0m\u001b[0mself\u001b[0m\u001b[0;34m,\u001b[0m \u001b[0;34m*\u001b[0m\u001b[0margs\u001b[0m\u001b[0;34m)\u001b[0m\u001b[0;34m:\u001b[0m\u001b[0;34m\u001b[0m\u001b[0;34m\u001b[0m\u001b[0m\n\u001b[0;32m-> 8421\u001b[0;31m         \u001b[0m_swigfaiss_avx2\u001b[0m\u001b[0;34m.\u001b[0m\u001b[0mIndexIDMap_swiginit\u001b[0m\u001b[0;34m(\u001b[0m\u001b[0mself\u001b[0m\u001b[0;34m,\u001b[0m \u001b[0m_swigfaiss_avx2\u001b[0m\u001b[0;34m.\u001b[0m\u001b[0mnew_IndexIDMap\u001b[0m\u001b[0;34m(\u001b[0m\u001b[0;34m*\u001b[0m\u001b[0margs\u001b[0m\u001b[0;34m)\u001b[0m\u001b[0;34m)\u001b[0m\u001b[0;34m\u001b[0m\u001b[0;34m\u001b[0m\u001b[0m\n\u001b[0m\u001b[1;32m   8422\u001b[0m \u001b[0;34m\u001b[0m\u001b[0m\n\u001b[1;32m   8423\u001b[0m \u001b[0;31m# Register IndexIDMap in _swigfaiss_avx2:\u001b[0m\u001b[0;34m\u001b[0m\u001b[0;34m\u001b[0m\u001b[0;34m\u001b[0m\u001b[0m\n",
      "\u001b[0;31mRuntimeError\u001b[0m: Error in faiss::IndexIDMapTemplate<IndexT>::IndexIDMapTemplate(IndexT*) [with IndexT = faiss::Index] at /root/miniconda3/conda-bld/faiss-pkg_1641228905850/work/faiss/MetaIndexes.cpp:33: Error: 'index->ntotal == 0' failed: index must be empty on input"
     ]
    }
   ],
   "source": [
    "# 手动传入向量index\n",
    "index_l2 = faiss.IndexIDMap(index_l2)"
   ]
  },
  {
   "cell_type": "code",
   "execution_count": 39,
   "id": "8b246283-7592-4578-8c37-73e6f345a244",
   "metadata": {},
   "outputs": [],
   "source": [
    "index_l2.add_with_ids(doc_emb.astype(np.float32), np.array(didx).astype('int64'))"
   ]
  },
  {
   "cell_type": "code",
   "execution_count": 76,
   "id": "78e3faff-628a-49f0-b297-8daf737e025c",
   "metadata": {},
   "outputs": [
    {
     "data": {
      "text/plain": [
       "array([[ 0.115,  0.005,  0.081, -0.081, -0.010, -0.265, -0.029,  0.017,\n",
       "        -0.042,  0.072, -0.094, -0.104,  0.014,  0.095,  0.056, -0.020,\n",
       "        -0.016, -0.018, -0.066,  0.071, -0.041,  0.064, -0.112, -0.101,\n",
       "         0.128,  0.068, -0.004,  0.035,  0.061,  0.011, -0.096, -0.125,\n",
       "         0.029, -0.027, -0.145, -0.104,  0.058, -0.033, -0.104,  0.145,\n",
       "         0.091, -0.081,  0.025, -0.133, -0.018,  0.035,  0.125,  0.078,\n",
       "        -0.147,  0.031,  0.049,  0.070,  0.037,  0.011,  0.016, -0.053,\n",
       "         0.132,  0.043,  0.010,  0.162, -0.048,  0.073, -0.057, -0.042,\n",
       "        -0.007,  0.009,  0.041,  0.030,  0.070, -0.023, -0.101,  0.023,\n",
       "         0.038, -0.104,  0.071,  0.144, -0.230, -0.164, -0.029, -0.140,\n",
       "        -0.131,  0.075, -0.021,  0.028,  0.063,  0.093,  0.009,  0.072,\n",
       "         0.090, -0.057, -0.018,  0.029,  0.100, -0.156, -0.189, -0.015,\n",
       "        -0.074,  0.198, -0.041,  0.101,  0.015,  0.012, -0.040, -0.057,\n",
       "         0.151, -0.035, -0.085, -0.071, -0.105, -0.051,  0.080, -0.143,\n",
       "         0.129, -0.109, -0.033, -0.003, -0.020,  0.221, -0.152, -0.015,\n",
       "        -0.048, -0.001, -0.034, -0.032, -0.030,  0.058, -0.114, -0.101]],\n",
       "      dtype=float32)"
      ]
     },
     "execution_count": 76,
     "metadata": {},
     "output_type": "execute_result"
    }
   ],
   "source": [
    "feature_search = qry_emb[0].reshape(-1,128).astype(np.float32)\n",
    "feature_search"
   ]
  },
  {
   "cell_type": "code",
   "execution_count": 77,
   "id": "f05fbdee-dbfd-460f-baf6-64d27652604c",
   "metadata": {},
   "outputs": [],
   "source": [
    "# 检索最相似的topK个特征\n",
    "topK = 50\n",
    "D, I = index_l2.search(feature_search, topK)\n",
    "# 返回的D表示相似度（或者距离）, I表示检索的topK个特征id（索引）"
   ]
  },
  {
   "cell_type": "code",
   "execution_count": 79,
   "id": "2ed32f96-2d78-4cb9-800c-7cf37414ebea",
   "metadata": {},
   "outputs": [
    {
     "data": {
      "text/plain": [
       "array([[110541, 900867, 520936, 687601, 997834, 798518, 183180, 204071,\n",
       "        983544, 538466, 759571, 500347, 637334, 780920, 870317, 865721,\n",
       "        307254, 622438, 752538, 794021, 863774, 302491, 606865, 878171,\n",
       "        683417, 746011, 333770, 662078,  91166, 501905, 813744, 302178,\n",
       "        456839, 311603, 150538,  48118, 387237, 738006, 755943, 431840,\n",
       "        212325, 666422, 629130, 239125, 347387, 167011, 978371,  63799,\n",
       "        312866, 596124]])"
      ]
     },
     "execution_count": 79,
     "metadata": {},
     "output_type": "execute_result"
    }
   ],
   "source": [
    "I"
   ]
  },
  {
   "cell_type": "code",
   "execution_count": 81,
   "id": "93fa1526-ddad-45db-a8a5-e7893edc47f5",
   "metadata": {},
   "outputs": [
    {
     "data": {
      "text/plain": [
       "array([[110542, 900868, 520937, 687602, 997835, 798519, 183181, 204072,\n",
       "        983545, 538467, 759572, 500348, 637335, 780921, 870318, 865722,\n",
       "        307255, 622439, 752539, 794022, 863775, 302492, 606866, 878172,\n",
       "        683418, 746012, 333771, 662079,  91167, 501906, 813745, 302179,\n",
       "        456840, 311604, 150539,  48119, 387238, 738007, 755944, 431841,\n",
       "        212326, 666423, 629131, 239126, 347388, 167012, 978372,  63800,\n",
       "        312867, 596125]])"
      ]
     },
     "execution_count": 81,
     "metadata": {},
     "output_type": "execute_result"
    }
   ],
   "source": [
    "I3"
   ]
  },
  {
   "cell_type": "code",
   "execution_count": 54,
   "id": "1562ae4b-05ea-40e2-952a-81dc61c9dcd2",
   "metadata": {},
   "outputs": [
    {
     "data": {
      "text/html": [
       "<div>\n",
       "<style scoped>\n",
       "    .dataframe tbody tr th:only-of-type {\n",
       "        vertical-align: middle;\n",
       "    }\n",
       "\n",
       "    .dataframe tbody tr th {\n",
       "        vertical-align: top;\n",
       "    }\n",
       "\n",
       "    .dataframe thead th {\n",
       "        text-align: right;\n",
       "    }\n",
       "</style>\n",
       "<table border=\"1\" class=\"dataframe\">\n",
       "  <thead>\n",
       "    <tr style=\"text-align: right;\">\n",
       "      <th></th>\n",
       "      <th>index</th>\n",
       "      <th>id</th>\n",
       "      <th>text</th>\n",
       "      <th>text_cut</th>\n",
       "      <th>source</th>\n",
       "    </tr>\n",
       "  </thead>\n",
       "  <tbody>\n",
       "    <tr>\n",
       "      <th>1101500</th>\n",
       "      <td>1101500</td>\n",
       "      <td>200001</td>\n",
       "      <td>甲黄酸阿怕替尼片</td>\n",
       "      <td>[甲, 黄酸, 阿怕, 替尼片]</td>\n",
       "      <td>dev</td>\n",
       "    </tr>\n",
       "  </tbody>\n",
       "</table>\n",
       "</div>"
      ],
      "text/plain": [
       "           index      id      text          text_cut source\n",
       "1101500  1101500  200001  甲黄酸阿怕替尼片  [甲, 黄酸, 阿怕, 替尼片]    dev"
      ]
     },
     "execution_count": 54,
     "metadata": {},
     "output_type": "execute_result"
    }
   ],
   "source": [
    "df_dev[df_dev[\"id\"]==(200000+1)]"
   ]
  },
  {
   "cell_type": "code",
   "execution_count": 87,
   "id": "9cb968fa-8e1e-4437-8f89-26da7f276750",
   "metadata": {},
   "outputs": [
    {
     "data": {
      "text/html": [
       "<div>\n",
       "<style scoped>\n",
       "    .dataframe tbody tr th:only-of-type {\n",
       "        vertical-align: middle;\n",
       "    }\n",
       "\n",
       "    .dataframe tbody tr th {\n",
       "        vertical-align: top;\n",
       "    }\n",
       "\n",
       "    .dataframe thead th {\n",
       "        text-align: right;\n",
       "    }\n",
       "</style>\n",
       "<table border=\"1\" class=\"dataframe\">\n",
       "  <thead>\n",
       "    <tr style=\"text-align: right;\">\n",
       "      <th></th>\n",
       "      <th>index</th>\n",
       "      <th>id</th>\n",
       "      <th>text</th>\n",
       "      <th>text_cut</th>\n",
       "      <th>source</th>\n",
       "    </tr>\n",
       "  </thead>\n",
       "  <tbody>\n",
       "    <tr>\n",
       "      <th>110540</th>\n",
       "      <td>110540</td>\n",
       "      <td>110541</td>\n",
       "      <td>聚氨酯材料大小腿假肢脚板 假脚 静踝假脚15cm-27cm   假肢配件</td>\n",
       "      <td>[聚氨酯, 材料, 大小腿, 假肢, 脚板, 假脚, 静踝, 假脚, 15, cm, 27, cm, 假肢, 配件]</td>\n",
       "      <td>doc</td>\n",
       "    </tr>\n",
       "  </tbody>\n",
       "</table>\n",
       "</div>"
      ],
      "text/plain": [
       "         index      id                                  text  \\\n",
       "110540  110540  110541  聚氨酯材料大小腿假肢脚板 假脚 静踝假脚15cm-27cm   假肢配件   \n",
       "\n",
       "                                                          text_cut source  \n",
       "110540  [聚氨酯, 材料, 大小腿, 假肢, 脚板, 假脚, 静踝, 假脚, 15, cm, 27, cm, 假肢, 配件]    doc  "
      ]
     },
     "execution_count": 87,
     "metadata": {},
     "output_type": "execute_result"
    }
   ],
   "source": [
    "df_doc[df_doc[\"id\"]==110541]"
   ]
  },
  {
   "cell_type": "code",
   "execution_count": 55,
   "id": "192622cc-7dfc-4638-b189-ddf0928a30d8",
   "metadata": {},
   "outputs": [
    {
     "data": {
      "text/html": [
       "<div>\n",
       "<style scoped>\n",
       "    .dataframe tbody tr th:only-of-type {\n",
       "        vertical-align: middle;\n",
       "    }\n",
       "\n",
       "    .dataframe tbody tr th {\n",
       "        vertical-align: top;\n",
       "    }\n",
       "\n",
       "    .dataframe thead th {\n",
       "        text-align: right;\n",
       "    }\n",
       "</style>\n",
       "<table border=\"1\" class=\"dataframe\">\n",
       "  <thead>\n",
       "    <tr style=\"text-align: right;\">\n",
       "      <th></th>\n",
       "      <th>index</th>\n",
       "      <th>id</th>\n",
       "      <th>text</th>\n",
       "      <th>text_cut</th>\n",
       "      <th>source</th>\n",
       "    </tr>\n",
       "  </thead>\n",
       "  <tbody>\n",
       "    <tr>\n",
       "      <th>48118</th>\n",
       "      <td>48118</td>\n",
       "      <td>48119</td>\n",
       "      <td>栢吉堂人工牛黄甲硝唑胶囊0.2g:5mg*12粒/盒</td>\n",
       "      <td>[栢, 吉, 堂, 人工, 牛黄, 甲硝唑, 胶囊, 0.2, g, 5, mg, 12, 粒, 盒]</td>\n",
       "      <td>doc</td>\n",
       "    </tr>\n",
       "    <tr>\n",
       "      <th>63799</th>\n",
       "      <td>63799</td>\n",
       "      <td>63800</td>\n",
       "      <td>咨询下单立减】楚甲盐酸阿莫罗芬搽剂2ml灰指甲敏感真菌感染甲癣</td>\n",
       "      <td>[咨询, 下, 单立, 减, 楚甲, 盐酸, 阿, 莫罗, 芬搽剂, 2, ml, 灰指甲, 敏感, 真菌, 感染, 甲癣]</td>\n",
       "      <td>doc</td>\n",
       "    </tr>\n",
       "    <tr>\n",
       "      <th>91166</th>\n",
       "      <td>91166</td>\n",
       "      <td>91167</td>\n",
       "      <td>甲硝唑片 100片 瓶装滴虫阴道炎甲硝锉片甲硝唑片甲硝锉粉可碾成粉末甲硝锉甲硝唑口服呷哨唑片剂药片甲硝唑片牙疼甲肖唑甲消唑片</td>\n",
       "      <td>[甲硝唑, 片, 100, 片, 瓶装, 滴虫, 阴道炎, 甲硝, 锉片, 甲硝唑, 片甲, 硝, 锉, 粉, 可, 碾成, 粉末, 甲硝, 锉, 甲硝唑, 口服, 呷, 哨, 唑, 片剂, ...</td>\n",
       "      <td>doc</td>\n",
       "    </tr>\n",
       "    <tr>\n",
       "      <th>110541</th>\n",
       "      <td>110541</td>\n",
       "      <td>110542</td>\n",
       "      <td>海尼宝药品丙硫氧嘧啶片50mg*100片/瓶大甲亢甲状腺功能亢进辅助治疗突眼甲状腺肿大手术甲状腺机能亢进</td>\n",
       "      <td>[海尼宝, 药品, 丙, 硫氧嘧啶, 片, 50, mg, 100, 片, 瓶大, 甲亢, 甲状腺, 功能, 亢进, 辅助, 治疗, 突眼, 甲状腺肿, 大, 手术, 甲状腺, 机能, 亢进]</td>\n",
       "      <td>doc</td>\n",
       "    </tr>\n",
       "    <tr>\n",
       "      <th>150538</th>\n",
       "      <td>150538</td>\n",
       "      <td>150539</td>\n",
       "      <td>蒙欣 复方乙酰水杨酸片 100片/瓶</td>\n",
       "      <td>[蒙欣, 复方, 乙酰, 水杨酸, 片, 100, 片, 瓶]</td>\n",
       "      <td>doc</td>\n",
       "    </tr>\n",
       "    <tr>\n",
       "      <th>167011</th>\n",
       "      <td>167011</td>\n",
       "      <td>167012</td>\n",
       "      <td>正品优甲乐 左甲状腺素钠片50ug*100片/盒甲状腺癌单纯性甲状腺肿各种原因引起的甲状腺功能减退甲减优甲片尤甲乐</td>\n",
       "      <td>[正品, 优甲乐, 左, 甲状腺素, 钠片, 50, ug, 100, 片, 盒, 甲状腺癌, 单纯性, 甲状腺肿, 各种, 原因, 引起, 的, 甲状腺, 功能, 减退, 甲, 减优, 甲片...</td>\n",
       "      <td>doc</td>\n",
       "    </tr>\n",
       "    <tr>\n",
       "      <th>183180</th>\n",
       "      <td>183180</td>\n",
       "      <td>183181</td>\n",
       "      <td>pidi/彼迪法莫替丁片20毫克*24片缓解胃酸过多胃痛烧心反酸胃灼热</td>\n",
       "      <td>[pidi, 彼迪, 法莫替丁, 片, 20, 毫克, 24, 片, 缓解, 胃酸过多, 胃痛, 烧心, 反酸, 胃灼热]</td>\n",
       "      <td>doc</td>\n",
       "    </tr>\n",
       "    <tr>\n",
       "      <th>204071</th>\n",
       "      <td>204071</td>\n",
       "      <td>204072</td>\n",
       "      <td>甲硝唑片  华中药业  0.2g*100`s</td>\n",
       "      <td>[甲硝唑, 片, 华中, 药业, 0.2, g, 100, s]</td>\n",
       "      <td>doc</td>\n",
       "    </tr>\n",
       "    <tr>\n",
       "      <th>212325</th>\n",
       "      <td>212325</td>\n",
       "      <td>212326</td>\n",
       "      <td>思美泰丁二磺酸腺苷蛋氨酸肠溶片500mg*10片/盒治疗肝硬化前和肝硬化所致肝内胆汁郁积妊娠期肝内胆汁郁积</td>\n",
       "      <td>[思美泰丁二, 磺酸, 腺苷, 蛋氨酸, 肠溶片, 500, mg, 10, 片, 盒, 治疗, 肝硬化, 前, 和, 肝硬化, 所致, 肝内, 胆汁, 郁积, 妊娠期, 肝内, 胆汁, 郁积]</td>\n",
       "      <td>doc</td>\n",
       "    </tr>\n",
       "    <tr>\n",
       "      <th>239125</th>\n",
       "      <td>239125</td>\n",
       "      <td>239126</td>\n",
       "      <td>5盒低至161/盒 顺丰包邮 思美泰 丁二磺酸腺苷蛋氨酸肠溶片 500mg*10片/盒 适用于肝硬化前和肝硬化所致肝内胆汁淤积</td>\n",
       "      <td>[5, 盒, 低, 至, 161, 盒, 顺丰, 包邮, 思美泰, 丁二, 磺酸, 腺苷, 蛋氨酸, 肠溶片, 500, mg, 10, 片, 盒, 适用, 于, 肝硬化, 前, 和, 肝硬化...</td>\n",
       "      <td>doc</td>\n",
       "    </tr>\n",
       "    <tr>\n",
       "      <th>302178</th>\n",
       "      <td>302178</td>\n",
       "      <td>302179</td>\n",
       "      <td>新效期+药房正品】赛治 甲巯咪唑片 10mg*50片 甲状腺增大甲状腺肿大甲亢</td>\n",
       "      <td>[新, 效期, +, 药房, 正品, 赛治, 甲, 巯, 咪唑, 片, 10, mg, 50, 片, 甲状腺, 增大, 甲状腺肿, 大, 甲亢]</td>\n",
       "      <td>doc</td>\n",
       "    </tr>\n",
       "    <tr>\n",
       "      <th>302491</th>\n",
       "      <td>302491</td>\n",
       "      <td>302492</td>\n",
       "      <td>双燕牌 醋酸泼尼松片 5mg*100片/瓶rx 肾上腺皮质激素类药</td>\n",
       "      <td>[双燕牌, 醋酸, 泼尼松, 片, 5, mg, 100, 片, 瓶, rx, 肾上腺, 皮质激素, 类药]</td>\n",
       "      <td>doc</td>\n",
       "    </tr>\n",
       "    <tr>\n",
       "      <th>307254</th>\n",
       "      <td>307254</td>\n",
       "      <td>307255</td>\n",
       "      <td>美国沿寿5五甲基四氢叶酸胶囊活性叶酸 孕妇男备孕 降血同</td>\n",
       "      <td>[美国, 沿寿, 5, 五, 甲基, 四氢, 叶酸, 胶囊, 活性, 叶酸, 孕妇, 男备, 孕, 降血同]</td>\n",
       "      <td>doc</td>\n",
       "    </tr>\n",
       "    <tr>\n",
       "      <th>311603</th>\n",
       "      <td>311603</td>\n",
       "      <td>311604</td>\n",
       "      <td>葵花甲硝唑片24片/盒甲肖挫甲硝痤甲销唑抗菌药阴道滴虫病妇科灭滴灵片内服口服甲硝锉片甲消唑片cf</td>\n",
       "      <td>[葵花, 甲硝唑, 片, 24, 片, 盒甲, 肖挫, 甲, 硝, 痤甲销, 唑, 抗菌药, 阴道, 滴虫病, 妇科, 灭滴, 灵片, 内服, 口服, 甲硝, 锉, 片甲, 消唑片, cf]</td>\n",
       "      <td>doc</td>\n",
       "    </tr>\n",
       "    <tr>\n",
       "      <th>312866</th>\n",
       "      <td>312866</td>\n",
       "      <td>312867</td>\n",
       "      <td>彼佳克 甲砜霉素肠溶片 0.25g*12片</td>\n",
       "      <td>[彼佳克, 甲砜, 霉素, 肠溶片, 0.25, g, 12, 片]</td>\n",
       "      <td>doc</td>\n",
       "    </tr>\n",
       "    <tr>\n",
       "      <th>333770</th>\n",
       "      <td>333770</td>\n",
       "      <td>333771</td>\n",
       "      <td>马沙尼 马沙尼 盐酸特拉唑嗪片 2mg*14片/盒 高血压降低舒张压良性前列腺增生</td>\n",
       "      <td>[马沙尼, 马沙尼, 盐酸, 特拉, 唑, 嗪, 片, 2, mg, 14, 片, 盒, 高血压, 降低, 舒张压, 良性, 前列腺, 增生]</td>\n",
       "      <td>doc</td>\n",
       "    </tr>\n",
       "    <tr>\n",
       "      <th>347387</th>\n",
       "      <td>347387</td>\n",
       "      <td>347388</td>\n",
       "      <td>德巴金 丙戊酸钠缓释片 0.5g*30片*1瓶/盒 丙戍酸钠缓释片 0 5g 30片 丙戊酸钠片30片 抽搐 抗癫痫药 治疗癫痫 丙戌酸钠缓释片</td>\n",
       "      <td>[德, 巴金, 丙, 戊, 酸钠, 缓释片, 0.5, g, 30, 片, 1, 瓶, 盒, 丙戍, 酸钠, 缓释片, 0, 5, g, 30, 片, 丙, 戊, 酸钠, 片, 30, 片, ...</td>\n",
       "      <td>doc</td>\n",
       "    </tr>\n",
       "    <tr>\n",
       "      <th>387237</th>\n",
       "      <td>387237</td>\n",
       "      <td>387238</td>\n",
       "      <td>双燕牌 尤金 甲泼尼龙片 4mg*24片/盒风湿性疾病 胶原疾病 皮肤疾病 过敏状态 眼部疾病 呼吸道疾病 水肿状态胃肠道疾病运动员慎用</td>\n",
       "      <td>[双燕牌, 尤金, 甲泼, 尼龙, 片, 4, mg, 24, 片, 盒, 风湿性, 疾病, 胶原, 疾病, 皮肤, 疾病, 过敏, 状态, 眼部, 疾病, 呼吸道, 疾病, 水肿, 状态, ...</td>\n",
       "      <td>doc</td>\n",
       "    </tr>\n",
       "    <tr>\n",
       "      <th>431840</th>\n",
       "      <td>431840</td>\n",
       "      <td>431841</td>\n",
       "      <td>zn/浙南 醋酸甲萘氢醌片(维生素k) 4mg*100片 维生素类药  适用于维生素k缺乏所致的凝血障碍性疾病</td>\n",
       "      <td>[zn, 浙南, 醋酸, 甲, 萘, 氢醌, 片, 维生素, k, 4, mg, 100, 片, 维生素, 类药, 适用, 于, 维生素, k, 缺乏, 所致, 的, 凝血, 障碍性, 疾病]</td>\n",
       "      <td>doc</td>\n",
       "    </tr>\n",
       "    <tr>\n",
       "      <th>456839</th>\n",
       "      <td>456839</td>\n",
       "      <td>456840</td>\n",
       "      <td>美国直邮 natrol 5-htp促进睡眠五羟色氨酸 200mg 100粒</td>\n",
       "      <td>[美国, 直邮, natrol, 5, htp, 促进, 睡眠, 五, 羟色氨酸, 200, mg, 100, 粒]</td>\n",
       "      <td>doc</td>\n",
       "    </tr>\n",
       "    <tr>\n",
       "      <th>500347</th>\n",
       "      <td>500347</td>\n",
       "      <td>500348</td>\n",
       "      <td>敏使朗甲磺酸倍他司汀100片梅尼埃综合征贝订叮丁斯汀信培它可钾磺酸盐酸陪药贝塔啶眩晕症思斯丁甲黄酸硫酸的璜钡潢仃斯期蓓伺30</td>\n",
       "      <td>[敏使, 朗, 甲磺酸, 倍, 他司, 汀, 100, 片, 梅尼埃, 综合征, 贝订, 叮丁, 斯汀, 信培, 它, 可, 钾, 磺酸盐, 酸, 陪药, 贝塔, 啶, 眩晕, 症思斯丁甲, ...</td>\n",
       "      <td>doc</td>\n",
       "    </tr>\n",
       "    <tr>\n",
       "      <th>501905</th>\n",
       "      <td>501905</td>\n",
       "      <td>501906</td>\n",
       "      <td>阿拉丁 麦克林   对氨基水杨酸, 98%  65-49-6  现货</td>\n",
       "      <td>[阿拉丁, 麦克, 林, 对, 氨基, 水杨酸, 98%, 65, 49, 6, 现货]</td>\n",
       "      <td>doc</td>\n",
       "    </tr>\n",
       "    <tr>\n",
       "      <th>520936</th>\n",
       "      <td>520936</td>\n",
       "      <td>520937</td>\n",
       "      <td>sine/信谊 氨甲环酸片 0.25g*30片/盒 氨甲环酸内服外伤手术出血纤维蛋白溶解亢进所致出血药品正品磺氨甲环酸酸片</td>\n",
       "      <td>[sine, 信谊, 氨甲, 环酸片, 0.25, g, 30, 片, 盒, 氨甲, 环酸, 内服, 外伤, 手术, 出血, 纤维蛋白, 溶解, 亢进, 所致, 出血, 药品, 正品, 磺氨甲...</td>\n",
       "      <td>doc</td>\n",
       "    </tr>\n",
       "    <tr>\n",
       "      <th>538466</th>\n",
       "      <td>538466</td>\n",
       "      <td>538467</td>\n",
       "      <td>包邮乐亢 甲钴胺胶囊0.5mg*60粒周围神经病甲钴按甲钴安胶非片剂甲钴胶胶囊旗舰店正品yp</td>\n",
       "      <td>[包邮乐亢, 甲, 钴, 胺, 胶囊, 0.5, mg, 60, 粒, 周围, 神经病, 甲, 钴, 按, 甲, 钴, 安胶, 非, 片剂, 甲, 钴, 胶, 胶囊, 旗舰店, 正品, yp]</td>\n",
       "      <td>doc</td>\n",
       "    </tr>\n",
       "    <tr>\n",
       "      <th>596124</th>\n",
       "      <td>596124</td>\n",
       "      <td>596125</td>\n",
       "      <td>sine/信谊 硫唑嘌呤片  50mg*60片/盒</td>\n",
       "      <td>[sine, 信谊, 硫唑嘌呤, 片, 50, mg, 60, 片, 盒]</td>\n",
       "      <td>doc</td>\n",
       "    </tr>\n",
       "    <tr>\n",
       "      <th>606865</th>\n",
       "      <td>606865</td>\n",
       "      <td>606866</td>\n",
       "      <td>甘乐 复方二氯醋酸二异丙胺片 24片/盒  用于脂肪肝及一般机能障碍</td>\n",
       "      <td>[甘乐, 复方, 二氯, 醋酸, 二异, 丙胺, 片, 24, 片, 盒, 用于, 脂肪肝, 及, 一般, 机能, 障碍]</td>\n",
       "      <td>doc</td>\n",
       "    </tr>\n",
       "    <tr>\n",
       "      <th>622438</th>\n",
       "      <td>622438</td>\n",
       "      <td>622439</td>\n",
       "      <td>敏使朗 甲磺酸倍他司汀片 6mg*30片/盒 梅尼埃病综合征眩晕症头晕甲硫酸倍他司汀盐酸倍他司丁片甲磺酸倍他司丁片甲硫酸倍他司汀片</td>\n",
       "      <td>[敏使, 朗, 甲磺酸, 倍, 他, 司汀片, 6, mg, 30, 片, 盒, 梅尼埃, 病, 综合征, 眩晕, 症, 头晕, 甲, 硫酸, 倍, 他司, 汀, 盐酸, 倍, 他司, 丁片,...</td>\n",
       "      <td>doc</td>\n",
       "    </tr>\n",
       "    <tr>\n",
       "      <th>629130</th>\n",
       "      <td>629130</td>\n",
       "      <td>629131</td>\n",
       "      <td>丁克 盐酸特比萘芬片 0.125g*12片齐鲁制药灰指甲体股足头癣感染口服特比奈芬片萘芬特比萘分片盐酸特比茶芬药片特比萘芬那片kzy</td>\n",
       "      <td>[丁克, 盐酸, 特比, 萘芬片, 0.125, g, 12, 片, 齐鲁, 制药, 灰指甲, 体股, 足, 头癣, 感染, 口服, 特比奈芬片, 萘芬, 特比, 萘, 分片, 盐酸, 特比,...</td>\n",
       "      <td>doc</td>\n",
       "    </tr>\n",
       "    <tr>\n",
       "      <th>637334</th>\n",
       "      <td>637334</td>\n",
       "      <td>637335</td>\n",
       "      <td>华南牌甲硝唑片 100片/盒肠外阿米巴病阴道滴虫病钾销锉片甲硝锉片呷哨唑片甲销唑妇科口服正品药甲硝唑片瓶装甲肖唑片甲硝锉片剂</td>\n",
       "      <td>[华南, 牌, 甲硝唑, 片, 100, 片, 盒肠外, 阿米巴病, 阴道, 滴虫病, 钾销, 锉, 片甲, 硝, 锉, 片, 呷, 哨, 唑, 片甲, 销唑, 妇科, 口服, 正品, 药, ...</td>\n",
       "      <td>doc</td>\n",
       "    </tr>\n",
       "    <tr>\n",
       "      <th>662078</th>\n",
       "      <td>662078</td>\n",
       "      <td>662079</td>\n",
       "      <td>letrox/雷替斯 左甲状腺素钠片 50ug*100片/盒</td>\n",
       "      <td>[letrox, 雷替, 斯, 左, 甲状腺素, 钠片, 50, ug, 100, 片, 盒]</td>\n",
       "      <td>doc</td>\n",
       "    </tr>\n",
       "    <tr>\n",
       "      <th>666422</th>\n",
       "      <td>666422</td>\n",
       "      <td>666423</td>\n",
       "      <td>星佳定 甲钴胺片 0.5mg*20片/盒 周围神经病甲古胺分散片甲钴安片钾钴胺片甲骨胺片甲钻胺片甲古胺片非甲钴胺胶囊甲咕胺官方旗舰店</td>\n",
       "      <td>[星佳定, 甲, 钴, 胺, 片, 0.5, mg, 20, 片, 盒, 周围, 神经病, 甲古胺, 分散片, 甲, 钴, 安片, 钾, 钴, 胺, 片, 甲骨, 胺, 片甲, 钻胺, 片甲,...</td>\n",
       "      <td>doc</td>\n",
       "    </tr>\n",
       "    <tr>\n",
       "      <th>683417</th>\n",
       "      <td>683417</td>\n",
       "      <td>683418</td>\n",
       "      <td>南国 三磷酸腺苷二钠片 20mg*24片/盒</td>\n",
       "      <td>[南国, 三, 磷酸, 腺苷, 二钠, 片, 20, mg, 24, 片, 盒]</td>\n",
       "      <td>doc</td>\n",
       "    </tr>\n",
       "    <tr>\n",
       "      <th>687601</th>\n",
       "      <td>687601</td>\n",
       "      <td>687602</td>\n",
       "      <td>广东顺丰 现货速发】henry/恒瑞 艾坦 甲磺酸阿帕替尼片0.25g*10片/盒xk胃食管腺癌 正品 晚期 结合部腺癌</td>\n",
       "      <td>[广东, 顺丰, 现货, 速发, henry, 恒瑞, 艾坦, 甲磺酸, 阿帕, 替尼片, 0.25, g, 10, 片, 盒, xk, 胃, 食管, 腺癌, 正品, 晚期, 结合部, 腺癌]</td>\n",
       "      <td>doc</td>\n",
       "    </tr>\n",
       "    <tr>\n",
       "      <th>738006</th>\n",
       "      <td>738006</td>\n",
       "      <td>738007</td>\n",
       "      <td>包邮】仁和 乐亢 甲钴胺胶囊 0.5mg*48粒/盒 周围神经病</td>\n",
       "      <td>[包邮, 仁和, 乐亢, 甲, 钴, 胺, 胶囊, 0.5, mg, 48, 粒, 盒, 周围, 神经病]</td>\n",
       "      <td>doc</td>\n",
       "    </tr>\n",
       "    <tr>\n",
       "      <th>746011</th>\n",
       "      <td>746011</td>\n",
       "      <td>746012</td>\n",
       "      <td>左甲状腺素钠片 100片/盒 甲状腺功能减退 药店 左甲状腺素纳片优甲片优乐甲忧优加乐尤甲乐优佳乐优胛乐甲状腺片</td>\n",
       "      <td>[左, 甲状腺素, 钠片, 100, 片, 盒, 甲状腺, 功能, 减退, 药店, 左, 甲状腺素, 纳片, 优, 甲片, 优乐甲忧, 优加乐, 尤甲乐, 优佳乐, 优胛乐, 甲状腺, 片]</td>\n",
       "      <td>doc</td>\n",
       "    </tr>\n",
       "    <tr>\n",
       "      <th>752538</th>\n",
       "      <td>752538</td>\n",
       "      <td>752539</td>\n",
       "      <td>乐卫玛 甲磺酸仑伐替尼胶囊 4mg*30粒/盒 肝细胞癌分化型甲状腺癌局部晚期旗舰店官方正品</td>\n",
       "      <td>[乐卫玛, 甲磺酸, 仑, 伐, 替尼, 胶囊, 4, mg, 30, 粒, 盒, 肝细胞, 癌, 分化, 型, 甲状腺癌, 局部, 晚期, 旗舰店, 官方, 正品]</td>\n",
       "      <td>doc</td>\n",
       "    </tr>\n",
       "    <tr>\n",
       "      <th>755943</th>\n",
       "      <td>755943</td>\n",
       "      <td>755944</td>\n",
       "      <td>葵花甲硝唑片24片/盒甲肖挫甲硝痤甲销唑抗菌药阴道滴虫病妇科灭滴灵片内服口服甲硝锉片甲消唑片甲硝?片</td>\n",
       "      <td>[葵花, 甲硝唑, 片, 24, 片, 盒甲, 肖挫, 甲, 硝, 痤甲销, 唑, 抗菌药, 阴道, 滴虫病, 妇科, 灭滴, 灵片, 内服, 口服, 甲硝, 锉, 片甲, 消唑, 片甲, 硝...</td>\n",
       "      <td>doc</td>\n",
       "    </tr>\n",
       "    <tr>\n",
       "      <th>759571</th>\n",
       "      <td>759571</td>\n",
       "      <td>759572</td>\n",
       "      <td>新亚闵行 甲钴胺片 0.5mg*30片/盒 适用于周围神经病 上海医药</td>\n",
       "      <td>[新亚, 闵行, 甲, 钴, 胺, 片, 0.5, mg, 30, 片, 盒, 适用, 于, 周围, 神经病, 上海, 医药]</td>\n",
       "      <td>doc</td>\n",
       "    </tr>\n",
       "    <tr>\n",
       "      <th>780920</th>\n",
       "      <td>780920</td>\n",
       "      <td>780921</td>\n",
       "      <td>乙酰唑胺片/acetazolamidum diamox 250mg 30粒(盒) 波兰产</td>\n",
       "      <td>[乙酰唑胺, 片, acetazolamidum, diamox, 250, mg, 30, 粒, 盒, 波兰, 产]</td>\n",
       "      <td>doc</td>\n",
       "    </tr>\n",
       "    <tr>\n",
       "      <th>794021</th>\n",
       "      <td>794021</td>\n",
       "      <td>794022</td>\n",
       "      <td>赛治 甲巯咪唑片10mg*50片 进口药正品甲状腺功能亢进甲亢突眼甲硫甲流甲蔬咪唑甲毓甲疏咪锉咪嗟咪挫甲巯咪锉他巴唑片德国默克尔</td>\n",
       "      <td>[赛治, 甲, 巯, 咪唑, 片, 10, mg, 50, 片, 进口药, 正品, 甲状腺, 功能, 亢进, 甲亢, 突眼甲, 硫甲, 流甲蔬, 咪唑, 甲毓甲, 疏, 咪, 锉, 咪, 嗟,...</td>\n",
       "      <td>doc</td>\n",
       "    </tr>\n",
       "    <tr>\n",
       "      <th>798518</th>\n",
       "      <td>798518</td>\n",
       "      <td>798519</td>\n",
       "      <td>弥可保 甲钴胺片0.5mg*20片/盒 正品甲骨铵片甲古按片弥可葆钾钴胺甲钻甲骨安甲咕胺甲谷周围神经病药弥尔保甲钴胺片</td>\n",
       "      <td>[弥可保, 甲, 钴, 胺, 片, 0.5, mg, 20, 片, 盒, 正品, 甲骨, 铵, 片甲, 古, 按片, 弥可葆钾, 钴, 胺, 甲, 钻, 甲骨, 安甲, 咕胺, 甲谷, 周围,...</td>\n",
       "      <td>doc</td>\n",
       "    </tr>\n",
       "    <tr>\n",
       "      <th>813744</th>\n",
       "      <td>813744</td>\n",
       "      <td>813745</td>\n",
       "      <td>华异同 富马酸丙酚替诺福韦片25mg*30片/盒</td>\n",
       "      <td>[华, 异同, 富马酸, 丙酚, 替诺福, 韦片, 25, mg, 30, 片, 盒]</td>\n",
       "      <td>doc</td>\n",
       "    </tr>\n",
       "    <tr>\n",
       "      <th>863774</th>\n",
       "      <td>863774</td>\n",
       "      <td>863775</td>\n",
       "      <td>氨甲环酸精华去黄褐斑肝斑皮秒黑色素改善黯沉痘印提亮进口妥塞敏</td>\n",
       "      <td>[氨甲, 环酸, 精华, 去, 黄褐斑, 肝斑, 皮秒, 黑色素, 改善, 黯沉, 痘, 印, 提亮, 进口, 妥塞敏]</td>\n",
       "      <td>doc</td>\n",
       "    </tr>\n",
       "    <tr>\n",
       "      <th>865721</th>\n",
       "      <td>865721</td>\n",
       "      <td>865722</td>\n",
       "      <td>艾瑞妮 马来酸吡咯替尼片 80mg*14片瓶/盒 转移性乳腺癌患者艾瑞尼艾瑞泥爱瑞妮马来酸比咯替尼片吡咯替泥吡咯替妮吡洛络 江苏恒瑞</td>\n",
       "      <td>[艾瑞妮, 马来酸, 吡咯, 替尼片, 80, mg, 14, 片瓶, 盒, 转移性, 乳腺癌, 患者, 艾瑞尼, 艾瑞泥, 爱瑞妮, 马来酸, 比咯, 替尼片, 吡咯, 替泥, 吡咯, 替妮...</td>\n",
       "      <td>doc</td>\n",
       "    </tr>\n",
       "    <tr>\n",
       "      <th>870317</th>\n",
       "      <td>870317</td>\n",
       "      <td>870318</td>\n",
       "      <td>sine/信谊 甲巯咪唑片 5mg*100片抗甲状腺药物治疗甲状腺功能亢进甲亢</td>\n",
       "      <td>[sine, 信谊, 甲, 巯, 咪唑, 片, 5, mg, 100, 片抗, 甲状腺, 药物, 治疗, 甲状腺, 功能, 亢进, 甲亢]</td>\n",
       "      <td>doc</td>\n",
       "    </tr>\n",
       "    <tr>\n",
       "      <th>878171</th>\n",
       "      <td>878171</td>\n",
       "      <td>878172</td>\n",
       "      <td>十治 甲钴胺胶囊 40片/瓶 周围神经病.</td>\n",
       "      <td>[十治, 甲, 钴, 胺, 胶囊, 40, 片, 瓶, 周围, 神经病]</td>\n",
       "      <td>doc</td>\n",
       "    </tr>\n",
       "    <tr>\n",
       "      <th>900867</th>\n",
       "      <td>900867</td>\n",
       "      <td>900868</td>\n",
       "      <td>信谊氨甲环酸片30氨钾安甲环酸药甲磺酸内服口服信宜铵塞止血胺甲酸妥赛氯甲氢旗舰店敏国产氧药片还上海甲氨氨酸胶囊素黄酸氯官方</td>\n",
       "      <td>[信谊, 氨, 甲, 环酸片, 30, 氨, 钾安甲, 环酸药, 甲磺酸, 内服, 口服, 信宜, 铵塞, 止血, 胺, 甲酸, 妥赛, 氯甲氢, 旗舰店, 敏, 国产, 氧, 药片, 还, ...</td>\n",
       "      <td>doc</td>\n",
       "    </tr>\n",
       "    <tr>\n",
       "      <th>978371</th>\n",
       "      <td>978371</td>\n",
       "      <td>978372</td>\n",
       "      <td>【低29.8包邮】赛治 赛治 甲巯咪唑片 10mg*50片/盒 甲状腺功能亢进症甲状腺增大甲状腺肿甲硫咪唑片甲疏咪挫片甲亢药大药房旗舰店</td>\n",
       "      <td>[低, 29.8, 包邮, 赛治, 赛治, 甲, 巯, 咪唑, 片, 10, mg, 50, 片, 盒, 甲状腺, 功能, 亢进症, 甲状腺, 增大, 甲状腺肿, 甲硫, 咪唑, 片甲, 疏咪...</td>\n",
       "      <td>doc</td>\n",
       "    </tr>\n",
       "    <tr>\n",
       "      <th>983544</th>\n",
       "      <td>983544</td>\n",
       "      <td>983545</td>\n",
       "      <td>光辉 丙硫氧嘧啶片 50mg*100片/盒甲状腺功能亢进 甲亢药</td>\n",
       "      <td>[光辉, 丙, 硫氧嘧啶, 片, 50, mg, 100, 片, 盒, 甲状腺, 功能, 亢进, 甲亢, 药]</td>\n",
       "      <td>doc</td>\n",
       "    </tr>\n",
       "    <tr>\n",
       "      <th>997834</th>\n",
       "      <td>997834</td>\n",
       "      <td>997835</td>\n",
       "      <td>sine/信谊 氨甲环酸片 0.25g*30片/盒</td>\n",
       "      <td>[sine, 信谊, 氨甲, 环酸片, 0.25, g, 30, 片, 盒]</td>\n",
       "      <td>doc</td>\n",
       "    </tr>\n",
       "  </tbody>\n",
       "</table>\n",
       "</div>"
      ],
      "text/plain": [
       "         index      id  \\\n",
       "48118    48118   48119   \n",
       "63799    63799   63800   \n",
       "91166    91166   91167   \n",
       "110541  110541  110542   \n",
       "150538  150538  150539   \n",
       "167011  167011  167012   \n",
       "183180  183180  183181   \n",
       "204071  204071  204072   \n",
       "212325  212325  212326   \n",
       "239125  239125  239126   \n",
       "302178  302178  302179   \n",
       "302491  302491  302492   \n",
       "307254  307254  307255   \n",
       "311603  311603  311604   \n",
       "312866  312866  312867   \n",
       "333770  333770  333771   \n",
       "347387  347387  347388   \n",
       "387237  387237  387238   \n",
       "431840  431840  431841   \n",
       "456839  456839  456840   \n",
       "500347  500347  500348   \n",
       "501905  501905  501906   \n",
       "520936  520936  520937   \n",
       "538466  538466  538467   \n",
       "596124  596124  596125   \n",
       "606865  606865  606866   \n",
       "622438  622438  622439   \n",
       "629130  629130  629131   \n",
       "637334  637334  637335   \n",
       "662078  662078  662079   \n",
       "666422  666422  666423   \n",
       "683417  683417  683418   \n",
       "687601  687601  687602   \n",
       "738006  738006  738007   \n",
       "746011  746011  746012   \n",
       "752538  752538  752539   \n",
       "755943  755943  755944   \n",
       "759571  759571  759572   \n",
       "780920  780920  780921   \n",
       "794021  794021  794022   \n",
       "798518  798518  798519   \n",
       "813744  813744  813745   \n",
       "863774  863774  863775   \n",
       "865721  865721  865722   \n",
       "870317  870317  870318   \n",
       "878171  878171  878172   \n",
       "900867  900867  900868   \n",
       "978371  978371  978372   \n",
       "983544  983544  983545   \n",
       "997834  997834  997835   \n",
       "\n",
       "                                                                            text  \\\n",
       "48118                                                 栢吉堂人工牛黄甲硝唑胶囊0.2g:5mg*12粒/盒   \n",
       "63799                                            咨询下单立减】楚甲盐酸阿莫罗芬搽剂2ml灰指甲敏感真菌感染甲癣   \n",
       "91166             甲硝唑片 100片 瓶装滴虫阴道炎甲硝锉片甲硝唑片甲硝锉粉可碾成粉末甲硝锉甲硝唑口服呷哨唑片剂药片甲硝唑片牙疼甲肖唑甲消唑片   \n",
       "110541                      海尼宝药品丙硫氧嘧啶片50mg*100片/瓶大甲亢甲状腺功能亢进辅助治疗突眼甲状腺肿大手术甲状腺机能亢进   \n",
       "150538                                                        蒙欣 复方乙酰水杨酸片 100片/瓶   \n",
       "167011                 正品优甲乐 左甲状腺素钠片50ug*100片/盒甲状腺癌单纯性甲状腺肿各种原因引起的甲状腺功能减退甲减优甲片尤甲乐   \n",
       "183180                                       pidi/彼迪法莫替丁片20毫克*24片缓解胃酸过多胃痛烧心反酸胃灼热   \n",
       "204071                                                    甲硝唑片  华中药业  0.2g*100`s   \n",
       "212325                     思美泰丁二磺酸腺苷蛋氨酸肠溶片500mg*10片/盒治疗肝硬化前和肝硬化所致肝内胆汁郁积妊娠期肝内胆汁郁积   \n",
       "239125           5盒低至161/盒 顺丰包邮 思美泰 丁二磺酸腺苷蛋氨酸肠溶片 500mg*10片/盒 适用于肝硬化前和肝硬化所致肝内胆汁淤积   \n",
       "302178                                   新效期+药房正品】赛治 甲巯咪唑片 10mg*50片 甲状腺增大甲状腺肿大甲亢   \n",
       "302491                                         双燕牌 醋酸泼尼松片 5mg*100片/瓶rx 肾上腺皮质激素类药   \n",
       "307254                                              美国沿寿5五甲基四氢叶酸胶囊活性叶酸 孕妇男备孕 降血同   \n",
       "311603                          葵花甲硝唑片24片/盒甲肖挫甲硝痤甲销唑抗菌药阴道滴虫病妇科灭滴灵片内服口服甲硝锉片甲消唑片cf   \n",
       "312866                                                     彼佳克 甲砜霉素肠溶片 0.25g*12片   \n",
       "333770                                 马沙尼 马沙尼 盐酸特拉唑嗪片 2mg*14片/盒 高血压降低舒张压良性前列腺增生   \n",
       "347387  德巴金 丙戊酸钠缓释片 0.5g*30片*1瓶/盒 丙戍酸钠缓释片 0 5g 30片 丙戊酸钠片30片 抽搐 抗癫痫药 治疗癫痫 丙戌酸钠缓释片   \n",
       "387237      双燕牌 尤金 甲泼尼龙片 4mg*24片/盒风湿性疾病 胶原疾病 皮肤疾病 过敏状态 眼部疾病 呼吸道疾病 水肿状态胃肠道疾病运动员慎用   \n",
       "431840                   zn/浙南 醋酸甲萘氢醌片(维生素k) 4mg*100片 维生素类药  适用于维生素k缺乏所致的凝血障碍性疾病   \n",
       "456839                                     美国直邮 natrol 5-htp促进睡眠五羟色氨酸 200mg 100粒   \n",
       "500347            敏使朗甲磺酸倍他司汀100片梅尼埃综合征贝订叮丁斯汀信培它可钾磺酸盐酸陪药贝塔啶眩晕症思斯丁甲黄酸硫酸的璜钡潢仃斯期蓓伺30   \n",
       "501905                                        阿拉丁 麦克林   对氨基水杨酸, 98%  65-49-6  现货   \n",
       "520936             sine/信谊 氨甲环酸片 0.25g*30片/盒 氨甲环酸内服外伤手术出血纤维蛋白溶解亢进所致出血药品正品磺氨甲环酸酸片   \n",
       "538466                            包邮乐亢 甲钴胺胶囊0.5mg*60粒周围神经病甲钴按甲钴安胶非片剂甲钴胶胶囊旗舰店正品yp   \n",
       "596124                                                 sine/信谊 硫唑嘌呤片  50mg*60片/盒   \n",
       "606865                                        甘乐 复方二氯醋酸二异丙胺片 24片/盒  用于脂肪肝及一般机能障碍   \n",
       "622438         敏使朗 甲磺酸倍他司汀片 6mg*30片/盒 梅尼埃病综合征眩晕症头晕甲硫酸倍他司汀盐酸倍他司丁片甲磺酸倍他司丁片甲硫酸倍他司汀片   \n",
       "629130        丁克 盐酸特比萘芬片 0.125g*12片齐鲁制药灰指甲体股足头癣感染口服特比奈芬片萘芬特比萘分片盐酸特比茶芬药片特比萘芬那片kzy   \n",
       "637334            华南牌甲硝唑片 100片/盒肠外阿米巴病阴道滴虫病钾销锉片甲硝锉片呷哨唑片甲销唑妇科口服正品药甲硝唑片瓶装甲肖唑片甲硝锉片剂   \n",
       "662078                                            letrox/雷替斯 左甲状腺素钠片 50ug*100片/盒   \n",
       "666422        星佳定 甲钴胺片 0.5mg*20片/盒 周围神经病甲古胺分散片甲钴安片钾钴胺片甲骨胺片甲钻胺片甲古胺片非甲钴胺胶囊甲咕胺官方旗舰店   \n",
       "683417                                                    南国 三磷酸腺苷二钠片 20mg*24片/盒   \n",
       "687601              广东顺丰 现货速发】henry/恒瑞 艾坦 甲磺酸阿帕替尼片0.25g*10片/盒xk胃食管腺癌 正品 晚期 结合部腺癌   \n",
       "738006                                          包邮】仁和 乐亢 甲钴胺胶囊 0.5mg*48粒/盒 周围神经病   \n",
       "746011                  左甲状腺素钠片 100片/盒 甲状腺功能减退 药店 左甲状腺素纳片优甲片优乐甲忧优加乐尤甲乐优佳乐优胛乐甲状腺片   \n",
       "752538                            乐卫玛 甲磺酸仑伐替尼胶囊 4mg*30粒/盒 肝细胞癌分化型甲状腺癌局部晚期旗舰店官方正品   \n",
       "755943                        葵花甲硝唑片24片/盒甲肖挫甲硝痤甲销唑抗菌药阴道滴虫病妇科灭滴灵片内服口服甲硝锉片甲消唑片甲硝?片   \n",
       "759571                                       新亚闵行 甲钴胺片 0.5mg*30片/盒 适用于周围神经病 上海医药   \n",
       "780920                              乙酰唑胺片/acetazolamidum diamox 250mg 30粒(盒) 波兰产   \n",
       "794021          赛治 甲巯咪唑片10mg*50片 进口药正品甲状腺功能亢进甲亢突眼甲硫甲流甲蔬咪唑甲毓甲疏咪锉咪嗟咪挫甲巯咪锉他巴唑片德国默克尔   \n",
       "798518               弥可保 甲钴胺片0.5mg*20片/盒 正品甲骨铵片甲古按片弥可葆钾钴胺甲钻甲骨安甲咕胺甲谷周围神经病药弥尔保甲钴胺片   \n",
       "813744                                                  华异同 富马酸丙酚替诺福韦片25mg*30片/盒   \n",
       "863774                                            氨甲环酸精华去黄褐斑肝斑皮秒黑色素改善黯沉痘印提亮进口妥塞敏   \n",
       "865721        艾瑞妮 马来酸吡咯替尼片 80mg*14片瓶/盒 转移性乳腺癌患者艾瑞尼艾瑞泥爱瑞妮马来酸比咯替尼片吡咯替泥吡咯替妮吡洛络 江苏恒瑞   \n",
       "870317                                   sine/信谊 甲巯咪唑片 5mg*100片抗甲状腺药物治疗甲状腺功能亢进甲亢   \n",
       "878171                                                     十治 甲钴胺胶囊 40片/瓶 周围神经病.   \n",
       "900867             信谊氨甲环酸片30氨钾安甲环酸药甲磺酸内服口服信宜铵塞止血胺甲酸妥赛氯甲氢旗舰店敏国产氧药片还上海甲氨氨酸胶囊素黄酸氯官方   \n",
       "978371      【低29.8包邮】赛治 赛治 甲巯咪唑片 10mg*50片/盒 甲状腺功能亢进症甲状腺增大甲状腺肿甲硫咪唑片甲疏咪挫片甲亢药大药房旗舰店   \n",
       "983544                                          光辉 丙硫氧嘧啶片 50mg*100片/盒甲状腺功能亢进 甲亢药   \n",
       "997834                                                 sine/信谊 氨甲环酸片 0.25g*30片/盒   \n",
       "\n",
       "                                                                                                   text_cut  \\\n",
       "48118                                                   [栢, 吉, 堂, 人工, 牛黄, 甲硝唑, 胶囊, 0.2, g, 5, mg, 12, 粒, 盒]   \n",
       "63799                                        [咨询, 下, 单立, 减, 楚甲, 盐酸, 阿, 莫罗, 芬搽剂, 2, ml, 灰指甲, 敏感, 真菌, 感染, 甲癣]   \n",
       "91166   [甲硝唑, 片, 100, 片, 瓶装, 滴虫, 阴道炎, 甲硝, 锉片, 甲硝唑, 片甲, 硝, 锉, 粉, 可, 碾成, 粉末, 甲硝, 锉, 甲硝唑, 口服, 呷, 哨, 唑, 片剂, ...   \n",
       "110541     [海尼宝, 药品, 丙, 硫氧嘧啶, 片, 50, mg, 100, 片, 瓶大, 甲亢, 甲状腺, 功能, 亢进, 辅助, 治疗, 突眼, 甲状腺肿, 大, 手术, 甲状腺, 机能, 亢进]   \n",
       "150538                                                                      [蒙欣, 复方, 乙酰, 水杨酸, 片, 100, 片, 瓶]   \n",
       "167011  [正品, 优甲乐, 左, 甲状腺素, 钠片, 50, ug, 100, 片, 盒, 甲状腺癌, 单纯性, 甲状腺肿, 各种, 原因, 引起, 的, 甲状腺, 功能, 减退, 甲, 减优, 甲片...   \n",
       "183180                                        [pidi, 彼迪, 法莫替丁, 片, 20, 毫克, 24, 片, 缓解, 胃酸过多, 胃痛, 烧心, 反酸, 胃灼热]   \n",
       "204071                                                                     [甲硝唑, 片, 华中, 药业, 0.2, g, 100, s]   \n",
       "212325    [思美泰丁二, 磺酸, 腺苷, 蛋氨酸, 肠溶片, 500, mg, 10, 片, 盒, 治疗, 肝硬化, 前, 和, 肝硬化, 所致, 肝内, 胆汁, 郁积, 妊娠期, 肝内, 胆汁, 郁积]   \n",
       "239125  [5, 盒, 低, 至, 161, 盒, 顺丰, 包邮, 思美泰, 丁二, 磺酸, 腺苷, 蛋氨酸, 肠溶片, 500, mg, 10, 片, 盒, 适用, 于, 肝硬化, 前, 和, 肝硬化...   \n",
       "302178                             [新, 效期, +, 药房, 正品, 赛治, 甲, 巯, 咪唑, 片, 10, mg, 50, 片, 甲状腺, 增大, 甲状腺肿, 大, 甲亢]   \n",
       "302491                                               [双燕牌, 醋酸, 泼尼松, 片, 5, mg, 100, 片, 瓶, rx, 肾上腺, 皮质激素, 类药]   \n",
       "307254                                               [美国, 沿寿, 5, 五, 甲基, 四氢, 叶酸, 胶囊, 活性, 叶酸, 孕妇, 男备, 孕, 降血同]   \n",
       "311603      [葵花, 甲硝唑, 片, 24, 片, 盒甲, 肖挫, 甲, 硝, 痤甲销, 唑, 抗菌药, 阴道, 滴虫病, 妇科, 灭滴, 灵片, 内服, 口服, 甲硝, 锉, 片甲, 消唑片, cf]   \n",
       "312866                                                                   [彼佳克, 甲砜, 霉素, 肠溶片, 0.25, g, 12, 片]   \n",
       "333770                              [马沙尼, 马沙尼, 盐酸, 特拉, 唑, 嗪, 片, 2, mg, 14, 片, 盒, 高血压, 降低, 舒张压, 良性, 前列腺, 增生]   \n",
       "347387  [德, 巴金, 丙, 戊, 酸钠, 缓释片, 0.5, g, 30, 片, 1, 瓶, 盒, 丙戍, 酸钠, 缓释片, 0, 5, g, 30, 片, 丙, 戊, 酸钠, 片, 30, 片, ...   \n",
       "387237  [双燕牌, 尤金, 甲泼, 尼龙, 片, 4, mg, 24, 片, 盒, 风湿性, 疾病, 胶原, 疾病, 皮肤, 疾病, 过敏, 状态, 眼部, 疾病, 呼吸道, 疾病, 水肿, 状态, ...   \n",
       "431840     [zn, 浙南, 醋酸, 甲, 萘, 氢醌, 片, 维生素, k, 4, mg, 100, 片, 维生素, 类药, 适用, 于, 维生素, k, 缺乏, 所致, 的, 凝血, 障碍性, 疾病]   \n",
       "456839                                           [美国, 直邮, natrol, 5, htp, 促进, 睡眠, 五, 羟色氨酸, 200, mg, 100, 粒]   \n",
       "500347  [敏使, 朗, 甲磺酸, 倍, 他司, 汀, 100, 片, 梅尼埃, 综合征, 贝订, 叮丁, 斯汀, 信培, 它, 可, 钾, 磺酸盐, 酸, 陪药, 贝塔, 啶, 眩晕, 症思斯丁甲, ...   \n",
       "501905                                                         [阿拉丁, 麦克, 林, 对, 氨基, 水杨酸, 98%, 65, 49, 6, 现货]   \n",
       "520936  [sine, 信谊, 氨甲, 环酸片, 0.25, g, 30, 片, 盒, 氨甲, 环酸, 内服, 外伤, 手术, 出血, 纤维蛋白, 溶解, 亢进, 所致, 出血, 药品, 正品, 磺氨甲...   \n",
       "538466     [包邮乐亢, 甲, 钴, 胺, 胶囊, 0.5, mg, 60, 粒, 周围, 神经病, 甲, 钴, 按, 甲, 钴, 安胶, 非, 片剂, 甲, 钴, 胶, 胶囊, 旗舰店, 正品, yp]   \n",
       "596124                                                                [sine, 信谊, 硫唑嘌呤, 片, 50, mg, 60, 片, 盒]   \n",
       "606865                                        [甘乐, 复方, 二氯, 醋酸, 二异, 丙胺, 片, 24, 片, 盒, 用于, 脂肪肝, 及, 一般, 机能, 障碍]   \n",
       "622438  [敏使, 朗, 甲磺酸, 倍, 他, 司汀片, 6, mg, 30, 片, 盒, 梅尼埃, 病, 综合征, 眩晕, 症, 头晕, 甲, 硫酸, 倍, 他司, 汀, 盐酸, 倍, 他司, 丁片,...   \n",
       "629130  [丁克, 盐酸, 特比, 萘芬片, 0.125, g, 12, 片, 齐鲁, 制药, 灰指甲, 体股, 足, 头癣, 感染, 口服, 特比奈芬片, 萘芬, 特比, 萘, 分片, 盐酸, 特比,...   \n",
       "637334  [华南, 牌, 甲硝唑, 片, 100, 片, 盒肠外, 阿米巴病, 阴道, 滴虫病, 钾销, 锉, 片甲, 硝, 锉, 片, 呷, 哨, 唑, 片甲, 销唑, 妇科, 口服, 正品, 药, ...   \n",
       "662078                                                      [letrox, 雷替, 斯, 左, 甲状腺素, 钠片, 50, ug, 100, 片, 盒]   \n",
       "666422  [星佳定, 甲, 钴, 胺, 片, 0.5, mg, 20, 片, 盒, 周围, 神经病, 甲古胺, 分散片, 甲, 钴, 安片, 钾, 钴, 胺, 片, 甲骨, 胺, 片甲, 钻胺, 片甲,...   \n",
       "683417                                                             [南国, 三, 磷酸, 腺苷, 二钠, 片, 20, mg, 24, 片, 盒]   \n",
       "687601     [广东, 顺丰, 现货, 速发, henry, 恒瑞, 艾坦, 甲磺酸, 阿帕, 替尼片, 0.25, g, 10, 片, 盒, xk, 胃, 食管, 腺癌, 正品, 晚期, 结合部, 腺癌]   \n",
       "738006                                                [包邮, 仁和, 乐亢, 甲, 钴, 胺, 胶囊, 0.5, mg, 48, 粒, 盒, 周围, 神经病]   \n",
       "746011      [左, 甲状腺素, 钠片, 100, 片, 盒, 甲状腺, 功能, 减退, 药店, 左, 甲状腺素, 纳片, 优, 甲片, 优乐甲忧, 优加乐, 尤甲乐, 优佳乐, 优胛乐, 甲状腺, 片]   \n",
       "752538                  [乐卫玛, 甲磺酸, 仑, 伐, 替尼, 胶囊, 4, mg, 30, 粒, 盒, 肝细胞, 癌, 分化, 型, 甲状腺癌, 局部, 晚期, 旗舰店, 官方, 正品]   \n",
       "755943  [葵花, 甲硝唑, 片, 24, 片, 盒甲, 肖挫, 甲, 硝, 痤甲销, 唑, 抗菌药, 阴道, 滴虫病, 妇科, 灭滴, 灵片, 内服, 口服, 甲硝, 锉, 片甲, 消唑, 片甲, 硝...   \n",
       "759571                                      [新亚, 闵行, 甲, 钴, 胺, 片, 0.5, mg, 30, 片, 盒, 适用, 于, 周围, 神经病, 上海, 医药]   \n",
       "780920                                          [乙酰唑胺, 片, acetazolamidum, diamox, 250, mg, 30, 粒, 盒, 波兰, 产]   \n",
       "794021  [赛治, 甲, 巯, 咪唑, 片, 10, mg, 50, 片, 进口药, 正品, 甲状腺, 功能, 亢进, 甲亢, 突眼甲, 硫甲, 流甲蔬, 咪唑, 甲毓甲, 疏, 咪, 锉, 咪, 嗟,...   \n",
       "798518  [弥可保, 甲, 钴, 胺, 片, 0.5, mg, 20, 片, 盒, 正品, 甲骨, 铵, 片甲, 古, 按片, 弥可葆钾, 钴, 胺, 甲, 钻, 甲骨, 安甲, 咕胺, 甲谷, 周围,...   \n",
       "813744                                                          [华, 异同, 富马酸, 丙酚, 替诺福, 韦片, 25, mg, 30, 片, 盒]   \n",
       "863774                                         [氨甲, 环酸, 精华, 去, 黄褐斑, 肝斑, 皮秒, 黑色素, 改善, 黯沉, 痘, 印, 提亮, 进口, 妥塞敏]   \n",
       "865721  [艾瑞妮, 马来酸, 吡咯, 替尼片, 80, mg, 14, 片瓶, 盒, 转移性, 乳腺癌, 患者, 艾瑞尼, 艾瑞泥, 爱瑞妮, 马来酸, 比咯, 替尼片, 吡咯, 替泥, 吡咯, 替妮...   \n",
       "870317                                [sine, 信谊, 甲, 巯, 咪唑, 片, 5, mg, 100, 片抗, 甲状腺, 药物, 治疗, 甲状腺, 功能, 亢进, 甲亢]   \n",
       "878171                                                                 [十治, 甲, 钴, 胺, 胶囊, 40, 片, 瓶, 周围, 神经病]   \n",
       "900867  [信谊, 氨, 甲, 环酸片, 30, 氨, 钾安甲, 环酸药, 甲磺酸, 内服, 口服, 信宜, 铵塞, 止血, 胺, 甲酸, 妥赛, 氯甲氢, 旗舰店, 敏, 国产, 氧, 药片, 还, ...   \n",
       "978371  [低, 29.8, 包邮, 赛治, 赛治, 甲, 巯, 咪唑, 片, 10, mg, 50, 片, 盒, 甲状腺, 功能, 亢进症, 甲状腺, 增大, 甲状腺肿, 甲硫, 咪唑, 片甲, 疏咪...   \n",
       "983544                                              [光辉, 丙, 硫氧嘧啶, 片, 50, mg, 100, 片, 盒, 甲状腺, 功能, 亢进, 甲亢, 药]   \n",
       "997834                                                               [sine, 信谊, 氨甲, 环酸片, 0.25, g, 30, 片, 盒]   \n",
       "\n",
       "       source  \n",
       "48118     doc  \n",
       "63799     doc  \n",
       "91166     doc  \n",
       "110541    doc  \n",
       "150538    doc  \n",
       "167011    doc  \n",
       "183180    doc  \n",
       "204071    doc  \n",
       "212325    doc  \n",
       "239125    doc  \n",
       "302178    doc  \n",
       "302491    doc  \n",
       "307254    doc  \n",
       "311603    doc  \n",
       "312866    doc  \n",
       "333770    doc  \n",
       "347387    doc  \n",
       "387237    doc  \n",
       "431840    doc  \n",
       "456839    doc  \n",
       "500347    doc  \n",
       "501905    doc  \n",
       "520936    doc  \n",
       "538466    doc  \n",
       "596124    doc  \n",
       "606865    doc  \n",
       "622438    doc  \n",
       "629130    doc  \n",
       "637334    doc  \n",
       "662078    doc  \n",
       "666422    doc  \n",
       "683417    doc  \n",
       "687601    doc  \n",
       "738006    doc  \n",
       "746011    doc  \n",
       "752538    doc  \n",
       "755943    doc  \n",
       "759571    doc  \n",
       "780920    doc  \n",
       "794021    doc  \n",
       "798518    doc  \n",
       "813744    doc  \n",
       "863774    doc  \n",
       "865721    doc  \n",
       "870317    doc  \n",
       "878171    doc  \n",
       "900867    doc  \n",
       "978371    doc  \n",
       "983544    doc  \n",
       "997834    doc  "
      ]
     },
     "execution_count": 55,
     "metadata": {},
     "output_type": "execute_result"
    }
   ],
   "source": [
    "df_doc[df_doc[\"id\"].isin(I)]"
   ]
  },
  {
   "cell_type": "code",
   "execution_count": 11,
   "id": "fe8f41c1-e43a-4565-9730-2e9f913662a3",
   "metadata": {},
   "outputs": [],
   "source": [
    "qids = np.array([3,11,28,60]).reshape(-1,1)"
   ]
  },
  {
   "cell_type": "code",
   "execution_count": 12,
   "id": "e6c9d18b-7805-43bf-8580-1078f792fc4e",
   "metadata": {},
   "outputs": [
    {
     "data": {
      "text/plain": [
       "array([[ 0,  1,  2,  3,  4,  5,  6,  7,  8,  9],\n",
       "       [10, 11, 12, 13, 14, 15, 16, 17, 18, 19],\n",
       "       [20, 21, 22, 23, 24, 25, 26, 27, 28, 29],\n",
       "       [30, 31, 32, 33, 34, 35, 36, 37, 38, 39]])"
      ]
     },
     "execution_count": 12,
     "metadata": {},
     "output_type": "execute_result"
    }
   ],
   "source": [
    "a = np.arange(40).reshape(4,10)\n",
    "a"
   ]
  },
  {
   "cell_type": "code",
   "execution_count": 13,
   "id": "ef91016d-9afa-4161-ba4a-8cb0c9674882",
   "metadata": {},
   "outputs": [
    {
     "data": {
      "text/plain": [
       "array([0, 1, 2])"
      ]
     },
     "execution_count": 13,
     "metadata": {},
     "output_type": "execute_result"
    },
    {
     "data": {
      "text/plain": [
       "array([3, 1, 8])"
      ]
     },
     "execution_count": 13,
     "metadata": {},
     "output_type": "execute_result"
    }
   ],
   "source": [
    "row_idx, gold_idx = np.where(a==qids)\n",
    "row_idx\n",
    "gold_idx"
   ]
  },
  {
   "cell_type": "code",
   "execution_count": 15,
   "id": "8f5a7f2e-fa1b-4903-b9a5-30bd47126ed9",
   "metadata": {},
   "outputs": [
    {
     "data": {
      "text/plain": [
       "1"
      ]
     },
     "execution_count": 15,
     "metadata": {},
     "output_type": "execute_result"
    }
   ],
   "source": [
    "# topK没找到的query数量\n",
    "hard_nums = len(qids) - len(row_idx)\n",
    "hard_nums"
   ]
  },
  {
   "cell_type": "code",
   "execution_count": 14,
   "id": "1f8c0b76-b043-4cd3-b0e6-6ee0e57c0818",
   "metadata": {},
   "outputs": [
    {
     "data": {
      "text/plain": [
       "array([4, 2, 9])"
      ]
     },
     "execution_count": 14,
     "metadata": {},
     "output_type": "execute_result"
    }
   ],
   "source": [
    "gold_idx1 = gold_idx+1\n",
    "gold_idx1"
   ]
  },
  {
   "cell_type": "code",
   "execution_count": 10,
   "id": "71c5dc99-322c-4a14-9637-de2f4a5de35b",
   "metadata": {},
   "outputs": [
    {
     "data": {
      "text/plain": [
       "0.4652777777777778"
      ]
     },
     "execution_count": 10,
     "metadata": {},
     "output_type": "execute_result"
    }
   ],
   "source": [
    "(1/gold_idx1).mean()"
   ]
  },
  {
   "cell_type": "code",
   "execution_count": 24,
   "id": "53786e5c-43ed-4d31-955e-5f1fcae37e77",
   "metadata": {},
   "outputs": [
    {
     "data": {
      "text/plain": [
       "0.2152777777777778"
      ]
     },
     "execution_count": 24,
     "metadata": {},
     "output_type": "execute_result"
    }
   ],
   "source": [
    "np.append(1/gold_idx1, [0]*hard_nums).mean()"
   ]
  },
  {
   "cell_type": "code",
   "execution_count": 1,
   "id": "eb5f8cd7-db43-4205-9ec1-5273b339c652",
   "metadata": {},
   "outputs": [
    {
     "name": "stderr",
     "output_type": "stream",
     "text": [
      "2022-04-06 21:58:33.570763: I tensorflow/stream_executor/platform/default/dso_loader.cc:49] Successfully opened dynamic library libcudart.so.11.0\n"
     ]
    },
    {
     "name": "stdout",
     "output_type": "stream",
     "text": [
      "WARNING:tensorflow:Deprecation warnings have been disabled. Set TF_ENABLE_DEPRECATION_WARNINGS=1 to re-enable them.\n"
     ]
    },
    {
     "name": "stderr",
     "output_type": "stream",
     "text": [
      "WARNING:root:Limited tf.compat.v2.summary API due to missing TensorBoard installation.\n"
     ]
    },
    {
     "name": "stdout",
     "output_type": "stream",
     "text": [
      "WARNING:tensorflow:From /tmp/ipykernel_157294/41075453.py:2: The name tf.enable_eager_execution is deprecated. Please use tf.compat.v1.enable_eager_execution instead.\n",
      "\n"
     ]
    },
    {
     "name": "stderr",
     "output_type": "stream",
     "text": [
      "WARNING:tensorflow:From /tmp/ipykernel_157294/41075453.py:2: The name tf.enable_eager_execution is deprecated. Please use tf.compat.v1.enable_eager_execution instead.\n",
      "\n"
     ]
    }
   ],
   "source": [
    "import tensorflow as tf\n",
    "tf.enable_eager_execution()\n",
    "import matplotlib.pyplot as plt\n",
    "import numpy as np"
   ]
  },
  {
   "cell_type": "code",
   "execution_count": 4,
   "id": "ad2c614c-7965-4373-a6fb-158b031f5961",
   "metadata": {},
   "outputs": [],
   "source": [
    "def plot_scheduler(step, schedulers):\n",
    "    if not isinstance(schedulers, list):\n",
    "        schedulers = [schedulers]\n",
    "\n",
    "    fig, (ax1, ax2) = plt.subplots(1, 2, figsize=[10, 3])\n",
    "    for scheduler in schedulers:\n",
    "        ax1.plot(range(step), scheduler(np.arange(step)).numpy(), label=\"1\")\n",
    "        ax1.set_xlabel('Epoch')\n",
    "        ax1.set_ylabel('Learning Rate')\n",
    "        ax1.legend()\n",
    "\n",
    "        ax2.plot(range(step), scheduler(np.arange(step)).numpy(), label=\"2\")\n",
    "        ax2.set_xlabel('Epoch')\n",
    "        ax2.set_ylabel('Learning Rate')\n",
    "        ax2.set_yscale('log')\n",
    "        ax2.legend()\n",
    "    plt.show()"
   ]
  },
  {
   "cell_type": "code",
   "execution_count": 16,
   "id": "692ff1c2-8485-47d9-b9a1-2181a1874af9",
   "metadata": {},
   "outputs": [
    {
     "data": {
      "image/png": "[encoded data removed]",
      "text/plain": [
       "<Figure size 720x216 with 2 Axes>"
      ]
     },
     "metadata": {
      "needs_background": "light"
     },
     "output_type": "display_data"
    },
    {
     "data": {
      "text/plain": [
       "array([2.9999999e-05, 2.9999999e-05, 2.9999999e-05, ..., 2.9999999e-06,\n",
       "       2.9999999e-06, 2.9999999e-06], dtype=float32)"
      ]
     },
     "execution_count": 16,
     "metadata": {},
     "output_type": "execute_result"
    }
   ],
   "source": [
    "init_lr = 3e-5\n",
    "decay_steps = 30000\n",
    "alpha = 0.1\n",
    "cos_dec1 = tf.keras.experimental.CosineDecay(init_lr, decay_steps, alpha=alpha)\n",
    "\n",
    "plot_scheduler(35000, cos_dec1)\n",
    "\n",
    "cos_dec1(np.arange(35000)).numpy()"
   ]
  },
  {
   "cell_type": "code",
   "execution_count": 12,
   "id": "94a8dc57-0b5b-4ec7-a5eb-a5f4c9a724fd",
   "metadata": {},
   "outputs": [
    {
     "data": {
      "image/png": "[encoded data removed]",
      "text/plain": [
       "<Figure size 720x216 with 2 Axes>"
      ]
     },
     "metadata": {
      "needs_background": "light"
     },
     "output_type": "display_data"
    }
   ],
   "source": [
    "init_lr = 3e-5\n",
    "decay_steps = 30000\n",
    "alpha = 0.01\n",
    "cos_dec2 = tf.keras.experimental.CosineDecay(init_lr, decay_steps, alpha=alpha)\n",
    "\n",
    "plot_scheduler(35000, cos_dec2)"
   ]
  },
  {
   "cell_type": "code",
   "execution_count": 5,
   "id": "0c4b2b2e-4aed-48c3-b22e-fbe953b3dd3f",
   "metadata": {},
   "outputs": [
    {
     "data": {
      "image/png": "[encoded data removed]",
      "text/plain": [
       "<Figure size 720x216 with 2 Axes>"
      ]
     },
     "metadata": {
      "needs_background": "light"
     },
     "output_type": "display_data"
    }
   ],
   "source": [
    "init_lr = 1e-2\n",
    "decay_steps = 50\n",
    "alpha = 1e-2\n",
    "cos_dec1 = tf.keras.experimental.CosineDecay(init_lr, decay_steps, alpha=alpha)\n",
    "\n",
    "init_lr = 1e-2\n",
    "decay_steps = 50\n",
    "alpha = 0\n",
    "cos_dec2 = tf.keras.experimental.CosineDecay(init_lr, decay_steps, alpha=alpha)\n",
    "\n",
    "init_lr = 1e-3\n",
    "decay_steps = 50\n",
    "alpha = 1e-2\n",
    "cos_dec3 = tf.keras.experimental.CosineDecay(init_lr, decay_steps, alpha=alpha)\n",
    "\n",
    "plot_scheduler(60, [cos_dec1, cos_dec2, cos_dec3])"
   ]
  },
  {
   "cell_type": "code",
   "execution_count": null,
   "id": "001b3679-765e-454b-a08a-be9558bfc124",
   "metadata": {},
   "outputs": [],
   "source": []
  },
  {
   "cell_type": "code",
   "execution_count": null,
   "id": "f0ed759a-235f-4d96-8d76-62ecbb3d30b7",
   "metadata": {},
   "outputs": [],
   "source": []
  }
 ],
 "metadata": {
  "kernelspec": {
   "display_name": "Python 3 (ipykernel)",
   "language": "python",
   "name": "python3"
  },
  "language_info": {
   "codemirror_mode": {
    "name": "ipython",
    "version": 3
   },
   "file_extension": ".py",
   "mimetype": "text/x-python",
   "name": "python",
   "nbconvert_exporter": "python",
   "pygments_lexer": "ipython3",
   "version": "3.8.10"
  }
 },
 "nbformat": 4,
 "nbformat_minor": 5
}
