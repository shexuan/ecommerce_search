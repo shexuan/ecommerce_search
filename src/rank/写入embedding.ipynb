{
 "cells": [
  {
   "cell_type": "code",
   "execution_count": 1,
   "id": "1c7f763c-51b5-4436-b96c-bda0dc8c6080",
   "metadata": {},
   "outputs": [],
   "source": [
    "import os\n",
    "from tqdm import tqdm\n",
    "import pickle"
   ]
  },
  {
   "cell_type": "code",
   "execution_count": null,
   "id": "a3aceca9-9bb0-4094-a45b-ca085fe2c88f",
   "metadata": {},
   "outputs": [],
   "source": []
  },
  {
   "cell_type": "code",
   "execution_count": 2,
   "id": "c804bc94-7592-46ad-a2e5-0601c7a33337",
   "metadata": {},
   "outputs": [],
   "source": [
    "encode_token_dir = \"/root/autodl-tmp/alibaba/data/robert_rank_data_0296/\"\n",
    "embedding_dir = \"/root/autodl-tmp/alibaba/data/models/roformer_sim_ft_sample_10w_0_lr1e-05_drop0.0_pt_cls_ecom_True_video_True_fgm_False_lrdecay_False_augfalse_hard9_/epoch0/\"\n"
   ]
  },
  {
   "cell_type": "code",
   "execution_count": 3,
   "id": "ad1a76e5-d9ec-4527-8156-ca3caf638344",
   "metadata": {},
   "outputs": [],
   "source": [
    "def save_embedding_token(fname, embedding_path, token_path):\n",
    "    with open(embedding_path, \"r\") as f1:\n",
    "        lines = [l.strip().split(\"\\t\") for l in f1.readlines()]\n",
    "        \n",
    "    with open(token_path, \"rb\") as f2:\n",
    "        raw_tokens = pickle.load(f2)\n",
    "        tokens = []\n",
    "        for idx, token in raw_tokens:\n",
    "            token = [str(t) for t in token]\n",
    "            while len(token)<64:\n",
    "                token.append(\"0\")\n",
    "            tokens.append(\",\".join(token))\n",
    "        \n",
    "    with open(f\"{fname}\", \"w\", encoding=\"utf-8\") as f3:\n",
    "        for emb, token in tqdm(zip(lines, tokens)):\n",
    "            _ = f3.write(f\"{emb[0]}\\t{emb[1]}\\t{token}\\n\")"
   ]
  },
  {
   "cell_type": "code",
   "execution_count": 4,
   "id": "2f36f33d-c55b-47f0-9f2a-1d0b8f50c448",
   "metadata": {},
   "outputs": [
    {
     "name": "stderr",
     "output_type": "stream",
     "text": [
      "1001500it [00:02, 392500.44it/s]\n"
     ]
    }
   ],
   "source": [
    "save_embedding_token(\"robert_emb_token/doc_embedding\", \n",
    "                     f\"{embedding_dir}/doc_embedding\", \n",
    "                     f\"{encode_token_dir}/doc_encode_rank.pkl\")"
   ]
  },
  {
   "cell_type": "code",
   "execution_count": 5,
   "id": "c9319e02-2ff4-484a-91c5-008866514df6",
   "metadata": {},
   "outputs": [
    {
     "name": "stderr",
     "output_type": "stream",
     "text": [
      "1000it [00:00, 313311.72it/s]\n"
     ]
    }
   ],
   "source": [
    "save_embedding_token(\"robert_emb_token/query_embedding\", \n",
    "                     f\"{embedding_dir}/query_embedding\", \n",
    "                     f\"{encode_token_dir}/dev_query_encode_rank.pkl\")"
   ]
  },
  {
   "cell_type": "code",
   "execution_count": null,
   "id": "14f3e59f-d7cc-44f0-8b12-ca3a4084818e",
   "metadata": {},
   "outputs": [],
   "source": []
  },
  {
   "cell_type": "code",
   "execution_count": null,
   "id": "7cbe5d1d-b744-4d11-824a-f61744e56b39",
   "metadata": {},
   "outputs": [],
   "source": []
  }
 ],
 "metadata": {
  "kernelspec": {
   "display_name": "Python 3 (ipykernel)",
   "language": "python",
   "name": "python3"
  },
  "language_info": {
   "codemirror_mode": {
    "name": "ipython",
    "version": 3
   },
   "file_extension": ".py",
   "mimetype": "text/x-python",
   "name": "python",
   "nbconvert_exporter": "python",
   "pygments_lexer": "ipython3",
   "version": "3.8.10"
  }
 },
 "nbformat": 4,
 "nbformat_minor": 5
}
